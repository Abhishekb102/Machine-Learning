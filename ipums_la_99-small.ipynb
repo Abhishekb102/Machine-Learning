{
 "cells": [
  {
   "cell_type": "code",
   "execution_count": 1,
   "metadata": {},
   "outputs": [],
   "source": [
    "import pandas as pd"
   ]
  },
  {
   "cell_type": "code",
   "execution_count": 2,
   "metadata": {},
   "outputs": [
    {
     "data": {
      "text/plain": [
       "'C:\\\\Users\\\\Abhishek Baranwal\\\\Documents\\\\Business analytics using python'"
      ]
     },
     "execution_count": 2,
     "metadata": {},
     "output_type": "execute_result"
    }
   ],
   "source": [
    "%pwd"
   ]
  },
  {
   "cell_type": "code",
   "execution_count": 3,
   "metadata": {},
   "outputs": [
    {
     "name": "stdout",
     "output_type": "stream",
     "text": [
      "C:\\Users\\Abhishek Baranwal\\Documents\\Business analytics using python\n"
     ]
    }
   ],
   "source": [
    "%cd C:\\Users\\Abhishek Baranwal\\Documents\\Business analytics using python"
   ]
  },
  {
   "cell_type": "code",
   "execution_count": 4,
   "metadata": {},
   "outputs": [],
   "source": [
    "df=pd.read_csv('ipums_la_99-small (1).csv',sep=\",\")"
   ]
  },
  {
   "cell_type": "code",
   "execution_count": 5,
   "metadata": {},
   "outputs": [
    {
     "data": {
      "text/html": [
       "<div>\n",
       "<style scoped>\n",
       "    .dataframe tbody tr th:only-of-type {\n",
       "        vertical-align: middle;\n",
       "    }\n",
       "\n",
       "    .dataframe tbody tr th {\n",
       "        vertical-align: top;\n",
       "    }\n",
       "\n",
       "    .dataframe thead th {\n",
       "        text-align: right;\n",
       "    }\n",
       "</style>\n",
       "<table border=\"1\" class=\"dataframe\">\n",
       "  <thead>\n",
       "    <tr style=\"text-align: right;\">\n",
       "      <th></th>\n",
       "      <th>year</th>\n",
       "      <th>gq</th>\n",
       "      <th>gqtypeg</th>\n",
       "      <th>farm</th>\n",
       "      <th>ownershg</th>\n",
       "      <th>value</th>\n",
       "      <th>rent</th>\n",
       "      <th>ftotinc</th>\n",
       "      <th>nfams</th>\n",
       "      <th>ncouples</th>\n",
       "      <th>...</th>\n",
       "      <th>incfarm</th>\n",
       "      <th>incss</th>\n",
       "      <th>incwelfr</th>\n",
       "      <th>incother</th>\n",
       "      <th>poverty</th>\n",
       "      <th>migrat5g</th>\n",
       "      <th>migplac5</th>\n",
       "      <th>movedin</th>\n",
       "      <th>vetstat</th>\n",
       "      <th>tranwork</th>\n",
       "    </tr>\n",
       "  </thead>\n",
       "  <tbody>\n",
       "    <tr>\n",
       "      <th>0</th>\n",
       "      <td>99</td>\n",
       "      <td>HH_in_1970_definition_but_sampled_as_larger_unit</td>\n",
       "      <td>NA_(household)</td>\n",
       "      <td>Non-Farm</td>\n",
       "      <td>Rented</td>\n",
       "      <td>999999</td>\n",
       "      <td>412</td>\n",
       "      <td>23000</td>\n",
       "      <td>2</td>\n",
       "      <td>0</td>\n",
       "      <td>...</td>\n",
       "      <td>999999</td>\n",
       "      <td>99999</td>\n",
       "      <td>99999</td>\n",
       "      <td>99999</td>\n",
       "      <td>116</td>\n",
       "      <td>Same_house</td>\n",
       "      <td>?</td>\n",
       "      <td>0</td>\n",
       "      <td>?</td>\n",
       "      <td>?</td>\n",
       "    </tr>\n",
       "    <tr>\n",
       "      <th>1</th>\n",
       "      <td>99</td>\n",
       "      <td>HH_in_1970_definition_but_sampled_as_larger_unit</td>\n",
       "      <td>NA_(household)</td>\n",
       "      <td>Non-Farm</td>\n",
       "      <td>Owned_or_being_bought_(loan)</td>\n",
       "      <td>162500</td>\n",
       "      <td>0</td>\n",
       "      <td>38008</td>\n",
       "      <td>2</td>\n",
       "      <td>0</td>\n",
       "      <td>...</td>\n",
       "      <td>0</td>\n",
       "      <td>0</td>\n",
       "      <td>0</td>\n",
       "      <td>0</td>\n",
       "      <td>501</td>\n",
       "      <td>Moved_place_not_reported</td>\n",
       "      <td>Michigan</td>\n",
       "      <td>2</td>\n",
       "      <td>No_Service</td>\n",
       "      <td>Auto_truck_or_van</td>\n",
       "    </tr>\n",
       "    <tr>\n",
       "      <th>2</th>\n",
       "      <td>99</td>\n",
       "      <td>HH_in_1970_definition_but_sampled_as_larger_unit</td>\n",
       "      <td>NA_(household)</td>\n",
       "      <td>Non-Farm</td>\n",
       "      <td>Rented</td>\n",
       "      <td>999999</td>\n",
       "      <td>675</td>\n",
       "      <td>0</td>\n",
       "      <td>1</td>\n",
       "      <td>0</td>\n",
       "      <td>...</td>\n",
       "      <td>999999</td>\n",
       "      <td>99999</td>\n",
       "      <td>99999</td>\n",
       "      <td>99999</td>\n",
       "      <td>1</td>\n",
       "      <td>Moved_place_not_reported</td>\n",
       "      <td>California</td>\n",
       "      <td>0</td>\n",
       "      <td>?</td>\n",
       "      <td>?</td>\n",
       "    </tr>\n",
       "    <tr>\n",
       "      <th>3</th>\n",
       "      <td>99</td>\n",
       "      <td>HH_in_1970_definition_but_sampled_as_larger_unit</td>\n",
       "      <td>NA_(household)</td>\n",
       "      <td>Non-Farm</td>\n",
       "      <td>Rented</td>\n",
       "      <td>999999</td>\n",
       "      <td>725</td>\n",
       "      <td>23008</td>\n",
       "      <td>2</td>\n",
       "      <td>1</td>\n",
       "      <td>...</td>\n",
       "      <td>999999</td>\n",
       "      <td>99999</td>\n",
       "      <td>99999</td>\n",
       "      <td>99999</td>\n",
       "      <td>155</td>\n",
       "      <td>?</td>\n",
       "      <td>?</td>\n",
       "      <td>0</td>\n",
       "      <td>?</td>\n",
       "      <td>?</td>\n",
       "    </tr>\n",
       "    <tr>\n",
       "      <th>4</th>\n",
       "      <td>99</td>\n",
       "      <td>HH_in_1970_definition_but_sampled_as_larger_unit</td>\n",
       "      <td>NA_(household)</td>\n",
       "      <td>Non-Farm</td>\n",
       "      <td>Owned_or_being_bought_(loan)</td>\n",
       "      <td>400000</td>\n",
       "      <td>0</td>\n",
       "      <td>104000</td>\n",
       "      <td>1</td>\n",
       "      <td>1</td>\n",
       "      <td>...</td>\n",
       "      <td>999999</td>\n",
       "      <td>99999</td>\n",
       "      <td>99999</td>\n",
       "      <td>99999</td>\n",
       "      <td>501</td>\n",
       "      <td>Same_house</td>\n",
       "      <td>?</td>\n",
       "      <td>0</td>\n",
       "      <td>?</td>\n",
       "      <td>?</td>\n",
       "    </tr>\n",
       "  </tbody>\n",
       "</table>\n",
       "<p>5 rows × 61 columns</p>\n",
       "</div>"
      ],
      "text/plain": [
       "   year                                                gq         gqtypeg  \\\n",
       "0    99  HH_in_1970_definition_but_sampled_as_larger_unit  NA_(household)   \n",
       "1    99  HH_in_1970_definition_but_sampled_as_larger_unit  NA_(household)   \n",
       "2    99  HH_in_1970_definition_but_sampled_as_larger_unit  NA_(household)   \n",
       "3    99  HH_in_1970_definition_but_sampled_as_larger_unit  NA_(household)   \n",
       "4    99  HH_in_1970_definition_but_sampled_as_larger_unit  NA_(household)   \n",
       "\n",
       "       farm                      ownershg   value  rent  ftotinc  nfams  \\\n",
       "0  Non-Farm                        Rented  999999   412    23000      2   \n",
       "1  Non-Farm  Owned_or_being_bought_(loan)  162500     0    38008      2   \n",
       "2  Non-Farm                        Rented  999999   675        0      1   \n",
       "3  Non-Farm                        Rented  999999   725    23008      2   \n",
       "4  Non-Farm  Owned_or_being_bought_(loan)  400000     0   104000      1   \n",
       "\n",
       "   ncouples  ...  incfarm  incss  incwelfr  incother  poverty  \\\n",
       "0         0  ...   999999  99999     99999     99999      116   \n",
       "1         0  ...        0      0         0         0      501   \n",
       "2         0  ...   999999  99999     99999     99999        1   \n",
       "3         1  ...   999999  99999     99999     99999      155   \n",
       "4         1  ...   999999  99999     99999     99999      501   \n",
       "\n",
       "                   migrat5g    migplac5  movedin     vetstat  \\\n",
       "0                Same_house           ?        0           ?   \n",
       "1  Moved_place_not_reported    Michigan        2  No_Service   \n",
       "2  Moved_place_not_reported  California        0           ?   \n",
       "3                         ?           ?        0           ?   \n",
       "4                Same_house           ?        0           ?   \n",
       "\n",
       "            tranwork  \n",
       "0                  ?  \n",
       "1  Auto_truck_or_van  \n",
       "2                  ?  \n",
       "3                  ?  \n",
       "4                  ?  \n",
       "\n",
       "[5 rows x 61 columns]"
      ]
     },
     "execution_count": 5,
     "metadata": {},
     "output_type": "execute_result"
    }
   ],
   "source": [
    "df.head()"
   ]
  },
  {
   "cell_type": "code",
   "execution_count": 6,
   "metadata": {},
   "outputs": [
    {
     "data": {
      "text/plain": [
       "(8844, 61)"
      ]
     },
     "execution_count": 6,
     "metadata": {},
     "output_type": "execute_result"
    }
   ],
   "source": [
    "df.shape"
   ]
  },
  {
   "cell_type": "code",
   "execution_count": 7,
   "metadata": {},
   "outputs": [
    {
     "name": "stdout",
     "output_type": "stream",
     "text": [
      "<class 'pandas.core.frame.DataFrame'>\n",
      "RangeIndex: 8844 entries, 0 to 8843\n",
      "Data columns (total 61 columns):\n",
      "year        8844 non-null int64\n",
      "gq          8844 non-null object\n",
      "gqtypeg     8844 non-null object\n",
      "farm        8844 non-null object\n",
      "ownershg    8844 non-null object\n",
      "value       8844 non-null int64\n",
      "rent        8844 non-null int64\n",
      "ftotinc     8844 non-null int64\n",
      "nfams       8844 non-null int64\n",
      "ncouples    8844 non-null int64\n",
      "nmothers    8844 non-null int64\n",
      "nfathers    8844 non-null int64\n",
      "momloc      8844 non-null int64\n",
      "stepmom     8844 non-null int64\n",
      "momrule     8844 non-null int64\n",
      "poploc      8844 non-null int64\n",
      "steppop     8844 non-null int64\n",
      "poprule     8844 non-null int64\n",
      "sploc       8844 non-null int64\n",
      "sprule      8844 non-null int64\n",
      "famsize     8844 non-null int64\n",
      "nchild      8844 non-null int64\n",
      "nchlt5      8844 non-null int64\n",
      "famunit     8844 non-null int64\n",
      "eldch       8844 non-null int64\n",
      "yngch       8844 non-null int64\n",
      "nsibs       8844 non-null int64\n",
      "relateg     8844 non-null object\n",
      "age         8844 non-null int64\n",
      "sex         8844 non-null object\n",
      "raceg       8844 non-null object\n",
      "marst       8844 non-null object\n",
      "chborn      8844 non-null object\n",
      "bplg        8844 non-null object\n",
      "school      8844 non-null object\n",
      "educrec     8844 non-null object\n",
      "schltype    8844 non-null object\n",
      "empstatg    8844 non-null object\n",
      "labforce    8844 non-null object\n",
      "occ1950     8844 non-null object\n",
      "occscore    8844 non-null int64\n",
      "sei         8844 non-null int64\n",
      "ind1950     8844 non-null object\n",
      "classwkg    8844 non-null object\n",
      "wkswork2    8844 non-null object\n",
      "hrswork2    8844 non-null object\n",
      "yrlastwk    8844 non-null object\n",
      "workedyr    8844 non-null object\n",
      "inctot      8844 non-null int64\n",
      "incwage     8844 non-null int64\n",
      "incbus      8844 non-null int64\n",
      "incfarm     8844 non-null int64\n",
      "incss       8844 non-null int64\n",
      "incwelfr    8844 non-null int64\n",
      "incother    8844 non-null int64\n",
      "poverty     8844 non-null int64\n",
      "migrat5g    8844 non-null object\n",
      "migplac5    8844 non-null object\n",
      "movedin     8844 non-null int64\n",
      "vetstat     8844 non-null object\n",
      "tranwork    8844 non-null object\n",
      "dtypes: int64(35), object(26)\n",
      "memory usage: 4.1+ MB\n"
     ]
    }
   ],
   "source": [
    "df.info()"
   ]
  },
  {
   "cell_type": "code",
   "execution_count": 8,
   "metadata": {},
   "outputs": [
    {
     "data": {
      "text/plain": [
       "?                     5421\n",
       "No_children           1195\n",
       "2__children            748\n",
       "1_child                542\n",
       "3                      437\n",
       "4                      224\n",
       "5                      129\n",
       "6                       64\n",
       "7                       26\n",
       "8                       20\n",
       "10_children             12\n",
       "9                       12\n",
       "11                       9\n",
       "12_(12+_1960-1990)       5\n",
       "Name: chborn, dtype: int64"
      ]
     },
     "execution_count": 8,
     "metadata": {},
     "output_type": "execute_result"
    }
   ],
   "source": [
    "df['chborn'].value_counts()"
   ]
  },
  {
   "cell_type": "code",
   "execution_count": 9,
   "metadata": {},
   "outputs": [],
   "source": [
    "df['chborn']=df['chborn'].str.replace('?','') #Replace ? with blanks"
   ]
  },
  {
   "cell_type": "code",
   "execution_count": 10,
   "metadata": {},
   "outputs": [],
   "source": [
    "import numpy as np\n",
    "df['chborn']=df['chborn'].replace(r'\\s+( +\\.)|#',np.nan,regex=True).replace('',np.nan) #Replace blanks with NaN"
   ]
  },
  {
   "cell_type": "code",
   "execution_count": 11,
   "metadata": {},
   "outputs": [
    {
     "data": {
      "text/plain": [
       "No_children           1195\n",
       "2__children            748\n",
       "1_child                542\n",
       "3                      437\n",
       "4                      224\n",
       "5                      129\n",
       "6                       64\n",
       "7                       26\n",
       "8                       20\n",
       "10_children             12\n",
       "9                       12\n",
       "11                       9\n",
       "12_(12+_1960-1990)       5\n",
       "Name: chborn, dtype: int64"
      ]
     },
     "execution_count": 11,
     "metadata": {},
     "output_type": "execute_result"
    }
   ],
   "source": [
    "df['chborn'].value_counts()"
   ]
  },
  {
   "cell_type": "code",
   "execution_count": 12,
   "metadata": {},
   "outputs": [
    {
     "data": {
      "text/plain": [
       "year           0\n",
       "gq             0\n",
       "gqtypeg        0\n",
       "farm           0\n",
       "ownershg       0\n",
       "value          0\n",
       "rent           0\n",
       "ftotinc        0\n",
       "nfams          0\n",
       "ncouples       0\n",
       "nmothers       0\n",
       "nfathers       0\n",
       "momloc         0\n",
       "stepmom        0\n",
       "momrule        0\n",
       "poploc         0\n",
       "steppop        0\n",
       "poprule        0\n",
       "sploc          0\n",
       "sprule         0\n",
       "famsize        0\n",
       "nchild         0\n",
       "nchlt5         0\n",
       "famunit        0\n",
       "eldch          0\n",
       "yngch          0\n",
       "nsibs          0\n",
       "relateg        0\n",
       "age            0\n",
       "sex            0\n",
       "            ... \n",
       "marst          0\n",
       "chborn      5421\n",
       "bplg           0\n",
       "school         0\n",
       "educrec        0\n",
       "schltype       0\n",
       "empstatg       0\n",
       "labforce       0\n",
       "occ1950        0\n",
       "occscore       0\n",
       "sei            0\n",
       "ind1950        0\n",
       "classwkg       0\n",
       "wkswork2       0\n",
       "hrswork2       0\n",
       "yrlastwk       0\n",
       "workedyr       0\n",
       "inctot         0\n",
       "incwage        0\n",
       "incbus         0\n",
       "incfarm        0\n",
       "incss          0\n",
       "incwelfr       0\n",
       "incother       0\n",
       "poverty        0\n",
       "migrat5g       0\n",
       "migplac5       0\n",
       "movedin        0\n",
       "vetstat        0\n",
       "tranwork       0\n",
       "Length: 61, dtype: int64"
      ]
     },
     "execution_count": 12,
     "metadata": {},
     "output_type": "execute_result"
    }
   ],
   "source": [
    "df.isnull().sum() # In chborn 5421 Missing Values are there"
   ]
  },
  {
   "cell_type": "code",
   "execution_count": 13,
   "metadata": {},
   "outputs": [],
   "source": [
    "df['chborn']=df['chborn'].fillna('8')"
   ]
  },
  {
   "cell_type": "code",
   "execution_count": 14,
   "metadata": {},
   "outputs": [
    {
     "data": {
      "text/plain": [
       "8                     5441\n",
       "No_children           1195\n",
       "2__children            748\n",
       "1_child                542\n",
       "3                      437\n",
       "4                      224\n",
       "5                      129\n",
       "6                       64\n",
       "7                       26\n",
       "10_children             12\n",
       "9                       12\n",
       "11                       9\n",
       "12_(12+_1960-1990)       5\n",
       "Name: chborn, dtype: int64"
      ]
     },
     "execution_count": 14,
     "metadata": {},
     "output_type": "execute_result"
    }
   ],
   "source": [
    "df['chborn'].value_counts()"
   ]
  },
  {
   "cell_type": "code",
   "execution_count": 15,
   "metadata": {},
   "outputs": [
    {
     "data": {
      "text/plain": [
       "No_not_in_school    5864\n",
       "Yes_in_school       2552\n",
       "?                    428\n",
       "Name: school, dtype: int64"
      ]
     },
     "execution_count": 15,
     "metadata": {},
     "output_type": "execute_result"
    }
   ],
   "source": [
    "df['school'].value_counts()"
   ]
  },
  {
   "cell_type": "code",
   "execution_count": 16,
   "metadata": {},
   "outputs": [],
   "source": [
    "df['school']=df['school'].str.replace('?','') #Replace ? with blanks"
   ]
  },
  {
   "cell_type": "code",
   "execution_count": 17,
   "metadata": {},
   "outputs": [],
   "source": [
    "df['school']=df['school'].replace(r'\\s+( +\\.)|#',np.nan,regex=True).replace('',np.nan) #Replace blanks with NaN"
   ]
  },
  {
   "cell_type": "code",
   "execution_count": 18,
   "metadata": {},
   "outputs": [
    {
     "data": {
      "text/plain": [
       "No_not_in_school    5864\n",
       "Yes_in_school       2552\n",
       "Name: school, dtype: int64"
      ]
     },
     "execution_count": 18,
     "metadata": {},
     "output_type": "execute_result"
    }
   ],
   "source": [
    "df['school'].value_counts()"
   ]
  },
  {
   "cell_type": "code",
   "execution_count": 19,
   "metadata": {},
   "outputs": [
    {
     "data": {
      "text/plain": [
       "year          0\n",
       "gq            0\n",
       "gqtypeg       0\n",
       "farm          0\n",
       "ownershg      0\n",
       "value         0\n",
       "rent          0\n",
       "ftotinc       0\n",
       "nfams         0\n",
       "ncouples      0\n",
       "nmothers      0\n",
       "nfathers      0\n",
       "momloc        0\n",
       "stepmom       0\n",
       "momrule       0\n",
       "poploc        0\n",
       "steppop       0\n",
       "poprule       0\n",
       "sploc         0\n",
       "sprule        0\n",
       "famsize       0\n",
       "nchild        0\n",
       "nchlt5        0\n",
       "famunit       0\n",
       "eldch         0\n",
       "yngch         0\n",
       "nsibs         0\n",
       "relateg       0\n",
       "age           0\n",
       "sex           0\n",
       "           ... \n",
       "marst         0\n",
       "chborn        0\n",
       "bplg          0\n",
       "school      428\n",
       "educrec       0\n",
       "schltype      0\n",
       "empstatg      0\n",
       "labforce      0\n",
       "occ1950       0\n",
       "occscore      0\n",
       "sei           0\n",
       "ind1950       0\n",
       "classwkg      0\n",
       "wkswork2      0\n",
       "hrswork2      0\n",
       "yrlastwk      0\n",
       "workedyr      0\n",
       "inctot        0\n",
       "incwage       0\n",
       "incbus        0\n",
       "incfarm       0\n",
       "incss         0\n",
       "incwelfr      0\n",
       "incother      0\n",
       "poverty       0\n",
       "migrat5g      0\n",
       "migplac5      0\n",
       "movedin       0\n",
       "vetstat       0\n",
       "tranwork      0\n",
       "Length: 61, dtype: int64"
      ]
     },
     "execution_count": 19,
     "metadata": {},
     "output_type": "execute_result"
    }
   ],
   "source": [
    "df.isnull().sum() # In chborn 5421 Missing Values are there"
   ]
  },
  {
   "cell_type": "code",
   "execution_count": 20,
   "metadata": {},
   "outputs": [],
   "source": [
    "df['school']=df['school'].fillna('Yes_in_school ')"
   ]
  },
  {
   "cell_type": "code",
   "execution_count": 21,
   "metadata": {},
   "outputs": [
    {
     "data": {
      "text/plain": [
       "No_not_in_school    5864\n",
       "Yes_in_school       2552\n",
       "Yes_in_school        428\n",
       "Name: school, dtype: int64"
      ]
     },
     "execution_count": 21,
     "metadata": {},
     "output_type": "execute_result"
    }
   ],
   "source": [
    "df['school'].value_counts()"
   ]
  },
  {
   "cell_type": "code",
   "execution_count": 22,
   "metadata": {},
   "outputs": [
    {
     "data": {
      "text/plain": [
       "1_to_3_years_of_college    1823\n",
       "Grade_12                   1798\n",
       "4+_years_of_college        1265\n",
       "Grade_5-8                  1085\n",
       "None_or_preschool           759\n",
       "Grade_1-4                   706\n",
       "?                           428\n",
       "Grade_11                    342\n",
       "Grade_9                     328\n",
       "Grade_10                    310\n",
       "Name: educrec, dtype: int64"
      ]
     },
     "execution_count": 22,
     "metadata": {},
     "output_type": "execute_result"
    }
   ],
   "source": [
    "df['educrec'].value_counts()"
   ]
  },
  {
   "cell_type": "code",
   "execution_count": 23,
   "metadata": {},
   "outputs": [],
   "source": [
    "df['educrec']=df['educrec'].str.replace('?','') #Replace ? with blanks"
   ]
  },
  {
   "cell_type": "code",
   "execution_count": 24,
   "metadata": {},
   "outputs": [],
   "source": [
    "df['educrec']=df['educrec'].replace(r'\\s+( +\\.)|#',np.nan,regex=True).replace('',np.nan) #Replace blanks with NaN"
   ]
  },
  {
   "cell_type": "code",
   "execution_count": 25,
   "metadata": {},
   "outputs": [
    {
     "data": {
      "text/plain": [
       "1_to_3_years_of_college    1823\n",
       "Grade_12                   1798\n",
       "4+_years_of_college        1265\n",
       "Grade_5-8                  1085\n",
       "None_or_preschool           759\n",
       "Grade_1-4                   706\n",
       "Grade_11                    342\n",
       "Grade_9                     328\n",
       "Grade_10                    310\n",
       "Name: educrec, dtype: int64"
      ]
     },
     "execution_count": 25,
     "metadata": {},
     "output_type": "execute_result"
    }
   ],
   "source": [
    "df['educrec'].value_counts()"
   ]
  },
  {
   "cell_type": "code",
   "execution_count": 26,
   "metadata": {},
   "outputs": [
    {
     "data": {
      "text/plain": [
       "year          0\n",
       "gq            0\n",
       "gqtypeg       0\n",
       "farm          0\n",
       "ownershg      0\n",
       "value         0\n",
       "rent          0\n",
       "ftotinc       0\n",
       "nfams         0\n",
       "ncouples      0\n",
       "nmothers      0\n",
       "nfathers      0\n",
       "momloc        0\n",
       "stepmom       0\n",
       "momrule       0\n",
       "poploc        0\n",
       "steppop       0\n",
       "poprule       0\n",
       "sploc         0\n",
       "sprule        0\n",
       "famsize       0\n",
       "nchild        0\n",
       "nchlt5        0\n",
       "famunit       0\n",
       "eldch         0\n",
       "yngch         0\n",
       "nsibs         0\n",
       "relateg       0\n",
       "age           0\n",
       "sex           0\n",
       "           ... \n",
       "marst         0\n",
       "chborn        0\n",
       "bplg          0\n",
       "school        0\n",
       "educrec     428\n",
       "schltype      0\n",
       "empstatg      0\n",
       "labforce      0\n",
       "occ1950       0\n",
       "occscore      0\n",
       "sei           0\n",
       "ind1950       0\n",
       "classwkg      0\n",
       "wkswork2      0\n",
       "hrswork2      0\n",
       "yrlastwk      0\n",
       "workedyr      0\n",
       "inctot        0\n",
       "incwage       0\n",
       "incbus        0\n",
       "incfarm       0\n",
       "incss         0\n",
       "incwelfr      0\n",
       "incother      0\n",
       "poverty       0\n",
       "migrat5g      0\n",
       "migplac5      0\n",
       "movedin       0\n",
       "vetstat       0\n",
       "tranwork      0\n",
       "Length: 61, dtype: int64"
      ]
     },
     "execution_count": 26,
     "metadata": {},
     "output_type": "execute_result"
    }
   ],
   "source": [
    "df.isnull().sum() # In chborn 428 Missing Values are there"
   ]
  },
  {
   "cell_type": "code",
   "execution_count": 27,
   "metadata": {},
   "outputs": [],
   "source": [
    "df['educrec']=df['educrec'].fillna('Grade_9')"
   ]
  },
  {
   "cell_type": "code",
   "execution_count": 28,
   "metadata": {},
   "outputs": [
    {
     "data": {
      "text/plain": [
       "1_to_3_years_of_college    1823\n",
       "Grade_12                   1798\n",
       "4+_years_of_college        1265\n",
       "Grade_5-8                  1085\n",
       "None_or_preschool           759\n",
       "Grade_9                     756\n",
       "Grade_1-4                   706\n",
       "Grade_11                    342\n",
       "Grade_10                    310\n",
       "Name: educrec, dtype: int64"
      ]
     },
     "execution_count": 28,
     "metadata": {},
     "output_type": "execute_result"
    }
   ],
   "source": [
    "df['educrec'].value_counts()"
   ]
  },
  {
   "cell_type": "code",
   "execution_count": 29,
   "metadata": {},
   "outputs": [
    {
     "data": {
      "text/plain": [
       "Not_enrolled                 5864\n",
       "Public_school                2119\n",
       "Private_school_(19601990)     433\n",
       "?                             428\n",
       "Name: schltype, dtype: int64"
      ]
     },
     "execution_count": 29,
     "metadata": {},
     "output_type": "execute_result"
    }
   ],
   "source": [
    "df['schltype'].value_counts()"
   ]
  },
  {
   "cell_type": "code",
   "execution_count": 30,
   "metadata": {},
   "outputs": [],
   "source": [
    "df['schltype']=df['schltype'].str.replace('?','') #Replace ? with blanks"
   ]
  },
  {
   "cell_type": "code",
   "execution_count": 31,
   "metadata": {},
   "outputs": [],
   "source": [
    "df['schltype']=df['schltype'].replace(r'\\s+( +\\.)|#',np.nan,regex=True).replace('',np.nan) #Replace blanks with NaN"
   ]
  },
  {
   "cell_type": "code",
   "execution_count": 32,
   "metadata": {},
   "outputs": [
    {
     "data": {
      "text/plain": [
       "Not_enrolled                 5864\n",
       "Public_school                2119\n",
       "Private_school_(19601990)     433\n",
       "Name: schltype, dtype: int64"
      ]
     },
     "execution_count": 32,
     "metadata": {},
     "output_type": "execute_result"
    }
   ],
   "source": [
    "df['schltype'].value_counts()"
   ]
  },
  {
   "cell_type": "code",
   "execution_count": 33,
   "metadata": {},
   "outputs": [
    {
     "data": {
      "text/plain": [
       "year          0\n",
       "gq            0\n",
       "gqtypeg       0\n",
       "farm          0\n",
       "ownershg      0\n",
       "value         0\n",
       "rent          0\n",
       "ftotinc       0\n",
       "nfams         0\n",
       "ncouples      0\n",
       "nmothers      0\n",
       "nfathers      0\n",
       "momloc        0\n",
       "stepmom       0\n",
       "momrule       0\n",
       "poploc        0\n",
       "steppop       0\n",
       "poprule       0\n",
       "sploc         0\n",
       "sprule        0\n",
       "famsize       0\n",
       "nchild        0\n",
       "nchlt5        0\n",
       "famunit       0\n",
       "eldch         0\n",
       "yngch         0\n",
       "nsibs         0\n",
       "relateg       0\n",
       "age           0\n",
       "sex           0\n",
       "           ... \n",
       "marst         0\n",
       "chborn        0\n",
       "bplg          0\n",
       "school        0\n",
       "educrec       0\n",
       "schltype    428\n",
       "empstatg      0\n",
       "labforce      0\n",
       "occ1950       0\n",
       "occscore      0\n",
       "sei           0\n",
       "ind1950       0\n",
       "classwkg      0\n",
       "wkswork2      0\n",
       "hrswork2      0\n",
       "yrlastwk      0\n",
       "workedyr      0\n",
       "inctot        0\n",
       "incwage       0\n",
       "incbus        0\n",
       "incfarm       0\n",
       "incss         0\n",
       "incwelfr      0\n",
       "incother      0\n",
       "poverty       0\n",
       "migrat5g      0\n",
       "migplac5      0\n",
       "movedin       0\n",
       "vetstat       0\n",
       "tranwork      0\n",
       "Length: 61, dtype: int64"
      ]
     },
     "execution_count": 33,
     "metadata": {},
     "output_type": "execute_result"
    }
   ],
   "source": [
    "df.isnull().sum() # In chborn 428 Missing Values are there"
   ]
  },
  {
   "cell_type": "code",
   "execution_count": 34,
   "metadata": {},
   "outputs": [],
   "source": [
    "df['schltype']=df['schltype'].fillna('Public_school')"
   ]
  },
  {
   "cell_type": "code",
   "execution_count": 35,
   "metadata": {},
   "outputs": [
    {
     "data": {
      "text/plain": [
       "Not_enrolled                 5864\n",
       "Public_school                2547\n",
       "Private_school_(19601990)     433\n",
       "Name: schltype, dtype: int64"
      ]
     },
     "execution_count": 35,
     "metadata": {},
     "output_type": "execute_result"
    }
   ],
   "source": [
    "df['schltype'].value_counts()"
   ]
  },
  {
   "cell_type": "code",
   "execution_count": 36,
   "metadata": {},
   "outputs": [
    {
     "data": {
      "text/plain": [
       "Employed              4160\n",
       "Not_in_labor_force    2280\n",
       "?                     2110\n",
       "Unemployed             294\n",
       "Name: empstatg, dtype: int64"
      ]
     },
     "execution_count": 36,
     "metadata": {},
     "output_type": "execute_result"
    }
   ],
   "source": [
    "df['empstatg'].value_counts()"
   ]
  },
  {
   "cell_type": "code",
   "execution_count": 37,
   "metadata": {},
   "outputs": [],
   "source": [
    "df['empstatg']=df['empstatg'].str.replace('?','') #Replace ? with blanks"
   ]
  },
  {
   "cell_type": "code",
   "execution_count": 38,
   "metadata": {},
   "outputs": [],
   "source": [
    "df['empstatg']=df['empstatg'].replace(r'\\s+( +\\.)|#',np.nan,regex=True).replace('',np.nan) #Replace blanks with NaN"
   ]
  },
  {
   "cell_type": "code",
   "execution_count": 39,
   "metadata": {},
   "outputs": [
    {
     "data": {
      "text/plain": [
       "Employed              4160\n",
       "Not_in_labor_force    2280\n",
       "Unemployed             294\n",
       "Name: empstatg, dtype: int64"
      ]
     },
     "execution_count": 39,
     "metadata": {},
     "output_type": "execute_result"
    }
   ],
   "source": [
    "df['empstatg'].value_counts()"
   ]
  },
  {
   "cell_type": "code",
   "execution_count": 40,
   "metadata": {},
   "outputs": [
    {
     "data": {
      "text/plain": [
       "year           0\n",
       "gq             0\n",
       "gqtypeg        0\n",
       "farm           0\n",
       "ownershg       0\n",
       "value          0\n",
       "rent           0\n",
       "ftotinc        0\n",
       "nfams          0\n",
       "ncouples       0\n",
       "nmothers       0\n",
       "nfathers       0\n",
       "momloc         0\n",
       "stepmom        0\n",
       "momrule        0\n",
       "poploc         0\n",
       "steppop        0\n",
       "poprule        0\n",
       "sploc          0\n",
       "sprule         0\n",
       "famsize        0\n",
       "nchild         0\n",
       "nchlt5         0\n",
       "famunit        0\n",
       "eldch          0\n",
       "yngch          0\n",
       "nsibs          0\n",
       "relateg        0\n",
       "age            0\n",
       "sex            0\n",
       "            ... \n",
       "marst          0\n",
       "chborn         0\n",
       "bplg           0\n",
       "school         0\n",
       "educrec        0\n",
       "schltype       0\n",
       "empstatg    2110\n",
       "labforce       0\n",
       "occ1950        0\n",
       "occscore       0\n",
       "sei            0\n",
       "ind1950        0\n",
       "classwkg       0\n",
       "wkswork2       0\n",
       "hrswork2       0\n",
       "yrlastwk       0\n",
       "workedyr       0\n",
       "inctot         0\n",
       "incwage        0\n",
       "incbus         0\n",
       "incfarm        0\n",
       "incss          0\n",
       "incwelfr       0\n",
       "incother       0\n",
       "poverty        0\n",
       "migrat5g       0\n",
       "migplac5       0\n",
       "movedin        0\n",
       "vetstat        0\n",
       "tranwork       0\n",
       "Length: 61, dtype: int64"
      ]
     },
     "execution_count": 40,
     "metadata": {},
     "output_type": "execute_result"
    }
   ],
   "source": [
    "df.isnull().sum() # In chborn 2110 Missing Values are there"
   ]
  },
  {
   "cell_type": "code",
   "execution_count": 41,
   "metadata": {},
   "outputs": [],
   "source": [
    "df['empstatg']=df['empstatg'].fillna('Employed')"
   ]
  },
  {
   "cell_type": "code",
   "execution_count": 42,
   "metadata": {},
   "outputs": [
    {
     "data": {
      "text/plain": [
       "Employed              6270\n",
       "Not_in_labor_force    2280\n",
       "Unemployed             294\n",
       "Name: empstatg, dtype: int64"
      ]
     },
     "execution_count": 42,
     "metadata": {},
     "output_type": "execute_result"
    }
   ],
   "source": [
    "df['empstatg'].value_counts()"
   ]
  },
  {
   "cell_type": "code",
   "execution_count": 43,
   "metadata": {},
   "outputs": [
    {
     "data": {
      "text/plain": [
       "Yes_in_labor_force       4454\n",
       "No_not_in_labor_force    2280\n",
       "?                        2110\n",
       "Name: labforce, dtype: int64"
      ]
     },
     "execution_count": 43,
     "metadata": {},
     "output_type": "execute_result"
    }
   ],
   "source": [
    "df['labforce'].value_counts()"
   ]
  },
  {
   "cell_type": "code",
   "execution_count": 44,
   "metadata": {},
   "outputs": [],
   "source": [
    "df['labforce']=df['labforce'].str.replace('?','') #Replace ? with blanks"
   ]
  },
  {
   "cell_type": "code",
   "execution_count": 45,
   "metadata": {},
   "outputs": [],
   "source": [
    "df['labforce']=df['labforce'].replace(r'\\s+( +\\.)|#',np.nan,regex=True).replace('',np.nan) #Replace blanks with NaN"
   ]
  },
  {
   "cell_type": "code",
   "execution_count": 46,
   "metadata": {},
   "outputs": [
    {
     "data": {
      "text/plain": [
       "Yes_in_labor_force       4454\n",
       "No_not_in_labor_force    2280\n",
       "Name: labforce, dtype: int64"
      ]
     },
     "execution_count": 46,
     "metadata": {},
     "output_type": "execute_result"
    }
   ],
   "source": [
    "df['labforce'].value_counts()"
   ]
  },
  {
   "cell_type": "code",
   "execution_count": 47,
   "metadata": {},
   "outputs": [
    {
     "data": {
      "text/plain": [
       "year           0\n",
       "gq             0\n",
       "gqtypeg        0\n",
       "farm           0\n",
       "ownershg       0\n",
       "value          0\n",
       "rent           0\n",
       "ftotinc        0\n",
       "nfams          0\n",
       "ncouples       0\n",
       "nmothers       0\n",
       "nfathers       0\n",
       "momloc         0\n",
       "stepmom        0\n",
       "momrule        0\n",
       "poploc         0\n",
       "steppop        0\n",
       "poprule        0\n",
       "sploc          0\n",
       "sprule         0\n",
       "famsize        0\n",
       "nchild         0\n",
       "nchlt5         0\n",
       "famunit        0\n",
       "eldch          0\n",
       "yngch          0\n",
       "nsibs          0\n",
       "relateg        0\n",
       "age            0\n",
       "sex            0\n",
       "            ... \n",
       "marst          0\n",
       "chborn         0\n",
       "bplg           0\n",
       "school         0\n",
       "educrec        0\n",
       "schltype       0\n",
       "empstatg       0\n",
       "labforce    2110\n",
       "occ1950        0\n",
       "occscore       0\n",
       "sei            0\n",
       "ind1950        0\n",
       "classwkg       0\n",
       "wkswork2       0\n",
       "hrswork2       0\n",
       "yrlastwk       0\n",
       "workedyr       0\n",
       "inctot         0\n",
       "incwage        0\n",
       "incbus         0\n",
       "incfarm        0\n",
       "incss          0\n",
       "incwelfr       0\n",
       "incother       0\n",
       "poverty        0\n",
       "migrat5g       0\n",
       "migplac5       0\n",
       "movedin        0\n",
       "vetstat        0\n",
       "tranwork       0\n",
       "Length: 61, dtype: int64"
      ]
     },
     "execution_count": 47,
     "metadata": {},
     "output_type": "execute_result"
    }
   ],
   "source": [
    "df.isnull().sum() # In chborn 2110 Missing Values are there"
   ]
  },
  {
   "cell_type": "code",
   "execution_count": 48,
   "metadata": {},
   "outputs": [],
   "source": [
    "df['labforce']=df['labforce'].fillna('Yes_in_labor_force')"
   ]
  },
  {
   "cell_type": "code",
   "execution_count": 49,
   "metadata": {},
   "outputs": [
    {
     "data": {
      "text/plain": [
       "Yes_in_labor_force       6564\n",
       "No_not_in_labor_force    2280\n",
       "Name: labforce, dtype: int64"
      ]
     },
     "execution_count": 49,
     "metadata": {},
     "output_type": "execute_result"
    }
   ],
   "source": [
    "df['labforce'].value_counts()"
   ]
  },
  {
   "cell_type": "code",
   "execution_count": 50,
   "metadata": {},
   "outputs": [
    {
     "data": {
      "text/plain": [
       "?                                                     3671\n",
       "Managers_officials_and_proprietors_(nec)               541\n",
       "Operative_and_kindred_workers_(nec)                    451\n",
       "Clerical_and_kindred_workers_(n_e_c_)                  404\n",
       "Salesmen_and_sales_clerks_(nec)                        243\n",
       "Laborers_(nec)                                         205\n",
       "Stenographers_typists_and_secretaries                  185\n",
       "Teachers_(n_e_c_)                                      127\n",
       "Cashiers                                               122\n",
       "Janitors_and_sextons                                   119\n",
       "Truck_and_tractor_drivers                              106\n",
       "Professional_technical_99_kindred_workers_(nec)         95\n",
       "Cooks_except_private_household                          82\n",
       "Bookkeepers                                             81\n",
       "Accountants_and_auditors                                80\n",
       "Foremen_(nec)                                           75\n",
       "Attendants_hospital_and_other_institution               67\n",
       "Service_workers_except_private_household_(nec)          67\n",
       "Nurses_professional                                     63\n",
       "Office_machine_operators                                60\n",
       "Attendants_professional_and_personal_service_(nec)      55\n",
       "Real_estate_agents_and_brokers                          55\n",
       "Mechanics_and_repairmen_(nec)                           54\n",
       "Guards_watchmen_and_doorkeepers                         52\n",
       "Waiters_and_waitresses                                  51\n",
       "Automobile-mechanics_and_repairmen                      50\n",
       "Shipping_and_receiving_clerks                           49\n",
       "Musicians_and_music_teachers                            48\n",
       "Lawyers_and_judges                                      48\n",
       "Private_household_workers_(nec)                         47\n",
       "                                                      ... \n",
       "Furriers                                                 2\n",
       "Glaziers                                                 2\n",
       "Buyers_and_shippers_farm_products                        2\n",
       "Laundressses_private_household                           1\n",
       "Mechanical-Engineers                                     1\n",
       "Chemical-Engineers                                       1\n",
       "Locomotive_engineers                                     1\n",
       "Electricians_apprentice                                  1\n",
       "Farmers_(owners_and_tenants)                             1\n",
       "Plumbers_and_and_pipe_fitters_apprentice                 1\n",
       "Weavers_textile                                          1\n",
       "Misc_social_scientists                                   1\n",
       "Funeral_directors_and_embalmers                          1\n",
       "Bookbinders                                              1\n",
       "Watchmen_(crossing)_and_bridge_tenders                   1\n",
       "Engravers_except_engravers                               1\n",
       "Nonscientific_subjects-Professors                        1\n",
       "Photoengravers_571_lithographers                         1\n",
       "Asbestos_and_insulation_workers                          1\n",
       "Office_machine-mechanics_and_repairmen                   1\n",
       "Molders_metal                                            1\n",
       "Farm_foremen                                             1\n",
       "Motion_picture_projectionists                            1\n",
       "Demonstrators                                            1\n",
       "Heat_treaters_annealers_temperers                        1\n",
       "Surveyors                                                1\n",
       "Sports_instructors_and_officials                         1\n",
       "Postmasters                                              1\n",
       "Geologists_and_geophysicists                             1\n",
       "Agricultural_scientists                                  1\n",
       "Name: occ1950, Length: 178, dtype: int64"
      ]
     },
     "execution_count": 50,
     "metadata": {},
     "output_type": "execute_result"
    }
   ],
   "source": [
    "df['occ1950'].value_counts()"
   ]
  },
  {
   "cell_type": "code",
   "execution_count": 51,
   "metadata": {},
   "outputs": [],
   "source": [
    "df['occ1950']=df['occ1950'].str.replace('?','') #Replace ? with blanks"
   ]
  },
  {
   "cell_type": "code",
   "execution_count": 52,
   "metadata": {},
   "outputs": [],
   "source": [
    "df['occ1950']=df['occ1950'].replace(r'\\s+( +\\.)|#',np.nan,regex=True).replace('',np.nan) #Replace blanks with NaN"
   ]
  },
  {
   "cell_type": "code",
   "execution_count": 53,
   "metadata": {},
   "outputs": [
    {
     "data": {
      "text/plain": [
       "Managers_officials_and_proprietors_(nec)              541\n",
       "Operative_and_kindred_workers_(nec)                   451\n",
       "Clerical_and_kindred_workers_(n_e_c_)                 404\n",
       "Salesmen_and_sales_clerks_(nec)                       243\n",
       "Laborers_(nec)                                        205\n",
       "Stenographers_typists_and_secretaries                 185\n",
       "Teachers_(n_e_c_)                                     127\n",
       "Cashiers                                              122\n",
       "Janitors_and_sextons                                  119\n",
       "Truck_and_tractor_drivers                             106\n",
       "Professional_technical_99_kindred_workers_(nec)        95\n",
       "Cooks_except_private_household                         82\n",
       "Bookkeepers                                            81\n",
       "Accountants_and_auditors                               80\n",
       "Foremen_(nec)                                          75\n",
       "Attendants_hospital_and_other_institution              67\n",
       "Service_workers_except_private_household_(nec)         67\n",
       "Nurses_professional                                    63\n",
       "Office_machine_operators                               60\n",
       "Real_estate_agents_and_brokers                         55\n",
       "Attendants_professional_and_personal_service_(nec)     55\n",
       "Mechanics_and_repairmen_(nec)                          54\n",
       "Guards_watchmen_and_doorkeepers                        52\n",
       "Waiters_and_waitresses                                 51\n",
       "Automobile-mechanics_and_repairmen                     50\n",
       "Shipping_and_receiving_clerks                          49\n",
       "Musicians_and_music_teachers                           48\n",
       "Lawyers_and_judges                                     48\n",
       "Private_household_workers_(nec)                        47\n",
       "Insurance_agents_and_brokers                           46\n",
       "                                                     ... \n",
       "Furriers                                                2\n",
       "Glaziers                                                2\n",
       "Buyers_and_shippers_farm_products                       2\n",
       "Laundressses_private_household                          1\n",
       "Mechanical-Engineers                                    1\n",
       "Chemical-Engineers                                      1\n",
       "Locomotive_engineers                                    1\n",
       "Electricians_apprentice                                 1\n",
       "Farmers_(owners_and_tenants)                            1\n",
       "Plumbers_and_and_pipe_fitters_apprentice                1\n",
       "Weavers_textile                                         1\n",
       "Misc_social_scientists                                  1\n",
       "Funeral_directors_and_embalmers                         1\n",
       "Bookbinders                                             1\n",
       "Watchmen_(crossing)_and_bridge_tenders                  1\n",
       "Engravers_except_engravers                              1\n",
       "Nonscientific_subjects-Professors                       1\n",
       "Photoengravers_571_lithographers                        1\n",
       "Asbestos_and_insulation_workers                         1\n",
       "Office_machine-mechanics_and_repairmen                  1\n",
       "Molders_metal                                           1\n",
       "Farm_foremen                                            1\n",
       "Motion_picture_projectionists                           1\n",
       "Demonstrators                                           1\n",
       "Heat_treaters_annealers_temperers                       1\n",
       "Surveyors                                               1\n",
       "Sports_instructors_and_officials                        1\n",
       "Postmasters                                             1\n",
       "Geologists_and_geophysicists                            1\n",
       "Agricultural_scientists                                 1\n",
       "Name: occ1950, Length: 177, dtype: int64"
      ]
     },
     "execution_count": 53,
     "metadata": {},
     "output_type": "execute_result"
    }
   ],
   "source": [
    "df['occ1950'].value_counts()"
   ]
  },
  {
   "cell_type": "code",
   "execution_count": 54,
   "metadata": {},
   "outputs": [
    {
     "data": {
      "text/plain": [
       "year           0\n",
       "gq             0\n",
       "gqtypeg        0\n",
       "farm           0\n",
       "ownershg       0\n",
       "value          0\n",
       "rent           0\n",
       "ftotinc        0\n",
       "nfams          0\n",
       "ncouples       0\n",
       "nmothers       0\n",
       "nfathers       0\n",
       "momloc         0\n",
       "stepmom        0\n",
       "momrule        0\n",
       "poploc         0\n",
       "steppop        0\n",
       "poprule        0\n",
       "sploc          0\n",
       "sprule         0\n",
       "famsize        0\n",
       "nchild         0\n",
       "nchlt5         0\n",
       "famunit        0\n",
       "eldch          0\n",
       "yngch          0\n",
       "nsibs          0\n",
       "relateg        0\n",
       "age            0\n",
       "sex            0\n",
       "            ... \n",
       "marst          0\n",
       "chborn         0\n",
       "bplg           0\n",
       "school         0\n",
       "educrec        0\n",
       "schltype       0\n",
       "empstatg       0\n",
       "labforce       0\n",
       "occ1950     3671\n",
       "occscore       0\n",
       "sei            0\n",
       "ind1950        0\n",
       "classwkg       0\n",
       "wkswork2       0\n",
       "hrswork2       0\n",
       "yrlastwk       0\n",
       "workedyr       0\n",
       "inctot         0\n",
       "incwage        0\n",
       "incbus         0\n",
       "incfarm        0\n",
       "incss          0\n",
       "incwelfr       0\n",
       "incother       0\n",
       "poverty        0\n",
       "migrat5g       0\n",
       "migplac5       0\n",
       "movedin        0\n",
       "vetstat        0\n",
       "tranwork       0\n",
       "Length: 61, dtype: int64"
      ]
     },
     "execution_count": 54,
     "metadata": {},
     "output_type": "execute_result"
    }
   ],
   "source": [
    "df.isnull().sum() # In chborn 3671 Missing Values are there"
   ]
  },
  {
   "cell_type": "code",
   "execution_count": 55,
   "metadata": {},
   "outputs": [],
   "source": [
    "df['occ1950']=df['occ1950'].fillna('Bookkeepers')"
   ]
  },
  {
   "cell_type": "code",
   "execution_count": 56,
   "metadata": {},
   "outputs": [
    {
     "data": {
      "text/plain": [
       "Bookkeepers                                           3752\n",
       "Managers_officials_and_proprietors_(nec)               541\n",
       "Operative_and_kindred_workers_(nec)                    451\n",
       "Clerical_and_kindred_workers_(n_e_c_)                  404\n",
       "Salesmen_and_sales_clerks_(nec)                        243\n",
       "Laborers_(nec)                                         205\n",
       "Stenographers_typists_and_secretaries                  185\n",
       "Teachers_(n_e_c_)                                      127\n",
       "Cashiers                                               122\n",
       "Janitors_and_sextons                                   119\n",
       "Truck_and_tractor_drivers                              106\n",
       "Professional_technical_99_kindred_workers_(nec)         95\n",
       "Cooks_except_private_household                          82\n",
       "Accountants_and_auditors                                80\n",
       "Foremen_(nec)                                           75\n",
       "Service_workers_except_private_household_(nec)          67\n",
       "Attendants_hospital_and_other_institution               67\n",
       "Nurses_professional                                     63\n",
       "Office_machine_operators                                60\n",
       "Attendants_professional_and_personal_service_(nec)      55\n",
       "Real_estate_agents_and_brokers                          55\n",
       "Mechanics_and_repairmen_(nec)                           54\n",
       "Guards_watchmen_and_doorkeepers                         52\n",
       "Waiters_and_waitresses                                  51\n",
       "Automobile-mechanics_and_repairmen                      50\n",
       "Shipping_and_receiving_clerks                           49\n",
       "Lawyers_and_judges                                      48\n",
       "Musicians_and_music_teachers                            48\n",
       "Private_household_workers_(nec)                         47\n",
       "Insurance_agents_and_brokers                            46\n",
       "                                                      ... \n",
       "Furriers                                                 2\n",
       "Glaziers                                                 2\n",
       "Buyers_and_shippers_farm_products                        2\n",
       "Laundressses_private_household                           1\n",
       "Mechanical-Engineers                                     1\n",
       "Chemical-Engineers                                       1\n",
       "Locomotive_engineers                                     1\n",
       "Electricians_apprentice                                  1\n",
       "Farmers_(owners_and_tenants)                             1\n",
       "Plumbers_and_and_pipe_fitters_apprentice                 1\n",
       "Weavers_textile                                          1\n",
       "Misc_social_scientists                                   1\n",
       "Funeral_directors_and_embalmers                          1\n",
       "Bookbinders                                              1\n",
       "Watchmen_(crossing)_and_bridge_tenders                   1\n",
       "Engravers_except_engravers                               1\n",
       "Nonscientific_subjects-Professors                        1\n",
       "Photoengravers_571_lithographers                         1\n",
       "Asbestos_and_insulation_workers                          1\n",
       "Office_machine-mechanics_and_repairmen                   1\n",
       "Molders_metal                                            1\n",
       "Farm_foremen                                             1\n",
       "Motion_picture_projectionists                            1\n",
       "Demonstrators                                            1\n",
       "Heat_treaters_annealers_temperers                        1\n",
       "Surveyors                                                1\n",
       "Sports_instructors_and_officials                         1\n",
       "Postmasters                                              1\n",
       "Geologists_and_geophysicists                             1\n",
       "Agricultural_scientists                                  1\n",
       "Name: occ1950, Length: 177, dtype: int64"
      ]
     },
     "execution_count": 56,
     "metadata": {},
     "output_type": "execute_result"
    }
   ],
   "source": [
    "df['occ1950'].value_counts()"
   ]
  },
  {
   "cell_type": "code",
   "execution_count": 57,
   "metadata": {},
   "outputs": [
    {
     "data": {
      "text/plain": [
       "?                                                        3671\n",
       "Educational_services                                      396\n",
       "Construction                                              312\n",
       "Misc_business_services                                    253\n",
       "Eating_and_drinking__places                               251\n",
       "Hospitals                                                 194\n",
       "Medical_and_other_health_services_except_hospitals        190\n",
       "Aircraft_and_parts                                        174\n",
       "Banking_and_credit                                        133\n",
       "Printing_publishing_and_allied_industries                 125\n",
       "Food_stores_except_dairy                                  114\n",
       "Apparel_and_accessories                                   114\n",
       "Theaters_and_motion_pictures                              113\n",
       "Real_estate                                               112\n",
       "Electrical_machinery_equipment_and_supplies               110\n",
       "Federal_public_administration                             104\n",
       "General_merchandise                                       103\n",
       "Insurance                                                 100\n",
       "Legal_services                                             85\n",
       "Misc_retail_stores                                         75\n",
       "Welfare_and_religious_services                             73\n",
       "Misc_wholesale_trade                                       72\n",
       "Misc_machinery                                             68\n",
       "Trucking_service                                           67\n",
       "Auto_repair_services_and_garages                           65\n",
       "Agriculture                                                63\n",
       "Local_public_administration                                63\n",
       "Misc_manufacturing_industries                              60\n",
       "Misc_personal_services                                     58\n",
       "Fabricated_steel_products                                  57\n",
       "                                                         ... \n",
       "Crude_petroleum_and_natural_gas_extraction                  4\n",
       "Dairy_prods_stores_and_milk_retailing                       4\n",
       "Paperboard_containers_and_boxes                             4\n",
       "Pulp_paper_and_paper-board_mills                            3\n",
       "Confectionary_and_related_products                          3\n",
       "Petroleum_products                                          3\n",
       "Metal_mining                                                3\n",
       "Other_and_not_specified_utilities                           3\n",
       "Grain-mill_products                                         3\n",
       "Taxicab_service                                             3\n",
       "Fuel_and_ice_retailing                                      3\n",
       "Nonmettalic__mining_and_quarrying_except_fuel               3\n",
       "Five_and_ten_cent_stores                                    3\n",
       "Misc_nonmetallic_mineral_and_stone_products                 3\n",
       "Railroads_and_railway                                       3\n",
       "Leather_products_except_footwear                            2\n",
       "Farm_prods--raw_materials                                   2\n",
       "Dressmaking_shops                                           2\n",
       "Photographic_equipment_and_supplies                         2\n",
       "Bowling_alleys_and_billiard_and_pool_parlors                2\n",
       "Logging                                                     2\n",
       "Meat_products                                               2\n",
       "Misc_textile_mill_products                                  1\n",
       "Telegraph                                                   1\n",
       "Structural_clay_products                                    1\n",
       "Forestry                                                    1\n",
       "Pottery_and_related_prods                                   1\n",
       "Misc_petroleum_and_coal_products                            1\n",
       "Agricultural_machinery_and_tractors                         1\n",
       "Canning_and_preserving_fruits_vegetables_and_seafoods       1\n",
       "Name: ind1950, Length: 134, dtype: int64"
      ]
     },
     "execution_count": 57,
     "metadata": {},
     "output_type": "execute_result"
    }
   ],
   "source": [
    "df['ind1950'].value_counts()"
   ]
  },
  {
   "cell_type": "code",
   "execution_count": 58,
   "metadata": {},
   "outputs": [],
   "source": [
    "df['ind1950']=df['ind1950'].str.replace('?','') #Replace ? with blanks"
   ]
  },
  {
   "cell_type": "code",
   "execution_count": 59,
   "metadata": {},
   "outputs": [],
   "source": [
    "df['ind1950']=df['ind1950'].replace(r'\\s+( +\\.)|#',np.nan,regex=True).replace('',np.nan) #Replace blanks with NaN"
   ]
  },
  {
   "cell_type": "code",
   "execution_count": 60,
   "metadata": {},
   "outputs": [
    {
     "data": {
      "text/plain": [
       "Educational_services                                     396\n",
       "Construction                                             312\n",
       "Misc_business_services                                   253\n",
       "Eating_and_drinking__places                              251\n",
       "Hospitals                                                194\n",
       "Medical_and_other_health_services_except_hospitals       190\n",
       "Aircraft_and_parts                                       174\n",
       "Banking_and_credit                                       133\n",
       "Printing_publishing_and_allied_industries                125\n",
       "Food_stores_except_dairy                                 114\n",
       "Apparel_and_accessories                                  114\n",
       "Theaters_and_motion_pictures                             113\n",
       "Real_estate                                              112\n",
       "Electrical_machinery_equipment_and_supplies              110\n",
       "Federal_public_administration                            104\n",
       "General_merchandise                                      103\n",
       "Insurance                                                100\n",
       "Legal_services                                            85\n",
       "Misc_retail_stores                                        75\n",
       "Welfare_and_religious_services                            73\n",
       "Misc_wholesale_trade                                      72\n",
       "Misc_machinery                                            68\n",
       "Trucking_service                                          67\n",
       "Auto_repair_services_and_garages                          65\n",
       "Agriculture                                               63\n",
       "Local_public_administration                               63\n",
       "Misc_manufacturing_industries                             60\n",
       "Misc_personal_services                                    58\n",
       "Fabricated_steel_products                                 57\n",
       "Private_households                                        56\n",
       "                                                        ... \n",
       "Crude_petroleum_and_natural_gas_extraction                 4\n",
       "Paperboard_containers_and_boxes                            4\n",
       "Dairy_prods_stores_and_milk_retailing                      4\n",
       "Other_and_not_specified_utilities                          3\n",
       "Confectionary_and_related_products                         3\n",
       "Pulp_paper_and_paper-board_mills                           3\n",
       "Five_and_ten_cent_stores                                   3\n",
       "Metal_mining                                               3\n",
       "Grain-mill_products                                        3\n",
       "Nonmettalic__mining_and_quarrying_except_fuel              3\n",
       "Petroleum_products                                         3\n",
       "Fuel_and_ice_retailing                                     3\n",
       "Misc_nonmetallic_mineral_and_stone_products                3\n",
       "Taxicab_service                                            3\n",
       "Railroads_and_railway                                      3\n",
       "Farm_prods--raw_materials                                  2\n",
       "Leather_products_except_footwear                           2\n",
       "Dressmaking_shops                                          2\n",
       "Photographic_equipment_and_supplies                        2\n",
       "Meat_products                                              2\n",
       "Bowling_alleys_and_billiard_and_pool_parlors               2\n",
       "Logging                                                    2\n",
       "Telegraph                                                  1\n",
       "Canning_and_preserving_fruits_vegetables_and_seafoods      1\n",
       "Misc_petroleum_and_coal_products                           1\n",
       "Misc_textile_mill_products                                 1\n",
       "Agricultural_machinery_and_tractors                        1\n",
       "Pottery_and_related_prods                                  1\n",
       "Forestry                                                   1\n",
       "Structural_clay_products                                   1\n",
       "Name: ind1950, Length: 133, dtype: int64"
      ]
     },
     "execution_count": 60,
     "metadata": {},
     "output_type": "execute_result"
    }
   ],
   "source": [
    "df['ind1950'].value_counts()"
   ]
  },
  {
   "cell_type": "code",
   "execution_count": 61,
   "metadata": {},
   "outputs": [
    {
     "data": {
      "text/plain": [
       "year           0\n",
       "gq             0\n",
       "gqtypeg        0\n",
       "farm           0\n",
       "ownershg       0\n",
       "value          0\n",
       "rent           0\n",
       "ftotinc        0\n",
       "nfams          0\n",
       "ncouples       0\n",
       "nmothers       0\n",
       "nfathers       0\n",
       "momloc         0\n",
       "stepmom        0\n",
       "momrule        0\n",
       "poploc         0\n",
       "steppop        0\n",
       "poprule        0\n",
       "sploc          0\n",
       "sprule         0\n",
       "famsize        0\n",
       "nchild         0\n",
       "nchlt5         0\n",
       "famunit        0\n",
       "eldch          0\n",
       "yngch          0\n",
       "nsibs          0\n",
       "relateg        0\n",
       "age            0\n",
       "sex            0\n",
       "            ... \n",
       "marst          0\n",
       "chborn         0\n",
       "bplg           0\n",
       "school         0\n",
       "educrec        0\n",
       "schltype       0\n",
       "empstatg       0\n",
       "labforce       0\n",
       "occ1950        0\n",
       "occscore       0\n",
       "sei            0\n",
       "ind1950     3671\n",
       "classwkg       0\n",
       "wkswork2       0\n",
       "hrswork2       0\n",
       "yrlastwk       0\n",
       "workedyr       0\n",
       "inctot         0\n",
       "incwage        0\n",
       "incbus         0\n",
       "incfarm        0\n",
       "incss          0\n",
       "incwelfr       0\n",
       "incother       0\n",
       "poverty        0\n",
       "migrat5g       0\n",
       "migplac5       0\n",
       "movedin        0\n",
       "vetstat        0\n",
       "tranwork       0\n",
       "Length: 61, dtype: int64"
      ]
     },
     "execution_count": 61,
     "metadata": {},
     "output_type": "execute_result"
    }
   ],
   "source": [
    "df.isnull().sum() # In chborn 3671 Missing Values are there"
   ]
  },
  {
   "cell_type": "code",
   "execution_count": 62,
   "metadata": {},
   "outputs": [],
   "source": [
    "df['ind1950']=df['ind1950'].fillna('Construction')"
   ]
  },
  {
   "cell_type": "code",
   "execution_count": 63,
   "metadata": {},
   "outputs": [
    {
     "data": {
      "text/plain": [
       "Construction                                             3983\n",
       "Educational_services                                      396\n",
       "Misc_business_services                                    253\n",
       "Eating_and_drinking__places                               251\n",
       "Hospitals                                                 194\n",
       "Medical_and_other_health_services_except_hospitals        190\n",
       "Aircraft_and_parts                                        174\n",
       "Banking_and_credit                                        133\n",
       "Printing_publishing_and_allied_industries                 125\n",
       "Food_stores_except_dairy                                  114\n",
       "Apparel_and_accessories                                   114\n",
       "Theaters_and_motion_pictures                              113\n",
       "Real_estate                                               112\n",
       "Electrical_machinery_equipment_and_supplies               110\n",
       "Federal_public_administration                             104\n",
       "General_merchandise                                       103\n",
       "Insurance                                                 100\n",
       "Legal_services                                             85\n",
       "Misc_retail_stores                                         75\n",
       "Welfare_and_religious_services                             73\n",
       "Misc_wholesale_trade                                       72\n",
       "Misc_machinery                                             68\n",
       "Trucking_service                                           67\n",
       "Auto_repair_services_and_garages                           65\n",
       "Agriculture                                                63\n",
       "Local_public_administration                                63\n",
       "Misc_manufacturing_industries                              60\n",
       "Misc_personal_services                                     58\n",
       "Fabricated_steel_products                                  57\n",
       "Private_households                                         56\n",
       "                                                         ... \n",
       "Crude_petroleum_and_natural_gas_extraction                  4\n",
       "Paperboard_containers_and_boxes                             4\n",
       "Dairy_prods_stores_and_milk_retailing                       4\n",
       "Other_and_not_specified_utilities                           3\n",
       "Confectionary_and_related_products                          3\n",
       "Pulp_paper_and_paper-board_mills                            3\n",
       "Five_and_ten_cent_stores                                    3\n",
       "Metal_mining                                                3\n",
       "Grain-mill_products                                         3\n",
       "Nonmettalic__mining_and_quarrying_except_fuel               3\n",
       "Petroleum_products                                          3\n",
       "Fuel_and_ice_retailing                                      3\n",
       "Misc_nonmetallic_mineral_and_stone_products                 3\n",
       "Taxicab_service                                             3\n",
       "Railroads_and_railway                                       3\n",
       "Farm_prods--raw_materials                                   2\n",
       "Leather_products_except_footwear                            2\n",
       "Dressmaking_shops                                           2\n",
       "Photographic_equipment_and_supplies                         2\n",
       "Meat_products                                               2\n",
       "Bowling_alleys_and_billiard_and_pool_parlors                2\n",
       "Logging                                                     2\n",
       "Telegraph                                                   1\n",
       "Canning_and_preserving_fruits_vegetables_and_seafoods       1\n",
       "Misc_petroleum_and_coal_products                            1\n",
       "Misc_textile_mill_products                                  1\n",
       "Agricultural_machinery_and_tractors                         1\n",
       "Pottery_and_related_prods                                   1\n",
       "Forestry                                                    1\n",
       "Structural_clay_products                                    1\n",
       "Name: ind1950, Length: 133, dtype: int64"
      ]
     },
     "execution_count": 63,
     "metadata": {},
     "output_type": "execute_result"
    }
   ],
   "source": [
    "df['ind1950'].value_counts()"
   ]
  },
  {
   "cell_type": "code",
   "execution_count": 64,
   "metadata": {},
   "outputs": [
    {
     "data": {
      "text/plain": [
       "Works_for_wages_salary    4660\n",
       "?                         3671\n",
       "Self-employed              513\n",
       "Name: classwkg, dtype: int64"
      ]
     },
     "execution_count": 64,
     "metadata": {},
     "output_type": "execute_result"
    }
   ],
   "source": [
    "df['classwkg'].value_counts()"
   ]
  },
  {
   "cell_type": "code",
   "execution_count": 65,
   "metadata": {},
   "outputs": [],
   "source": [
    "df['classwkg']=df['classwkg'].str.replace('?','') #Replace ? with blanks"
   ]
  },
  {
   "cell_type": "code",
   "execution_count": 66,
   "metadata": {},
   "outputs": [],
   "source": [
    "df['classwkg']=df['classwkg'].replace(r'\\s+( +\\.)|#',np.nan,regex=True).replace('',np.nan) #Replace blanks with NaN"
   ]
  },
  {
   "cell_type": "code",
   "execution_count": 67,
   "metadata": {},
   "outputs": [
    {
     "data": {
      "text/plain": [
       "Works_for_wages_salary    4660\n",
       "Self-employed              513\n",
       "Name: classwkg, dtype: int64"
      ]
     },
     "execution_count": 67,
     "metadata": {},
     "output_type": "execute_result"
    }
   ],
   "source": [
    "df['classwkg'].value_counts()"
   ]
  },
  {
   "cell_type": "code",
   "execution_count": 68,
   "metadata": {},
   "outputs": [
    {
     "data": {
      "text/plain": [
       "year           0\n",
       "gq             0\n",
       "gqtypeg        0\n",
       "farm           0\n",
       "ownershg       0\n",
       "value          0\n",
       "rent           0\n",
       "ftotinc        0\n",
       "nfams          0\n",
       "ncouples       0\n",
       "nmothers       0\n",
       "nfathers       0\n",
       "momloc         0\n",
       "stepmom        0\n",
       "momrule        0\n",
       "poploc         0\n",
       "steppop        0\n",
       "poprule        0\n",
       "sploc          0\n",
       "sprule         0\n",
       "famsize        0\n",
       "nchild         0\n",
       "nchlt5         0\n",
       "famunit        0\n",
       "eldch          0\n",
       "yngch          0\n",
       "nsibs          0\n",
       "relateg        0\n",
       "age            0\n",
       "sex            0\n",
       "            ... \n",
       "marst          0\n",
       "chborn         0\n",
       "bplg           0\n",
       "school         0\n",
       "educrec        0\n",
       "schltype       0\n",
       "empstatg       0\n",
       "labforce       0\n",
       "occ1950        0\n",
       "occscore       0\n",
       "sei            0\n",
       "ind1950        0\n",
       "classwkg    3671\n",
       "wkswork2       0\n",
       "hrswork2       0\n",
       "yrlastwk       0\n",
       "workedyr       0\n",
       "inctot         0\n",
       "incwage        0\n",
       "incbus         0\n",
       "incfarm        0\n",
       "incss          0\n",
       "incwelfr       0\n",
       "incother       0\n",
       "poverty        0\n",
       "migrat5g       0\n",
       "migplac5       0\n",
       "movedin        0\n",
       "vetstat        0\n",
       "tranwork       0\n",
       "Length: 61, dtype: int64"
      ]
     },
     "execution_count": 68,
     "metadata": {},
     "output_type": "execute_result"
    }
   ],
   "source": [
    "df.isnull().sum() # In chborn 3671 Missing Values are there"
   ]
  },
  {
   "cell_type": "code",
   "execution_count": 69,
   "metadata": {},
   "outputs": [],
   "source": [
    "df['classwkg']=df['classwkg'].fillna('Self-employed')"
   ]
  },
  {
   "cell_type": "code",
   "execution_count": 70,
   "metadata": {},
   "outputs": [
    {
     "data": {
      "text/plain": [
       "Works_for_wages_salary    4660\n",
       "Self-employed             4184\n",
       "Name: classwkg, dtype: int64"
      ]
     },
     "execution_count": 70,
     "metadata": {},
     "output_type": "execute_result"
    }
   ],
   "source": [
    "df['classwkg'].value_counts()"
   ]
  },
  {
   "cell_type": "code",
   "execution_count": 71,
   "metadata": {},
   "outputs": [
    {
     "data": {
      "text/plain": [
       "?              4198\n",
       "50-52_weeks    2771\n",
       "40-47_weeks     444\n",
       "1-13_weeks      372\n",
       "14-26_weeks     367\n",
       "27-39_weeks     352\n",
       "48-49_weeks     340\n",
       "Name: wkswork2, dtype: int64"
      ]
     },
     "execution_count": 71,
     "metadata": {},
     "output_type": "execute_result"
    }
   ],
   "source": [
    "df['wkswork2'].value_counts()"
   ]
  },
  {
   "cell_type": "code",
   "execution_count": 72,
   "metadata": {},
   "outputs": [],
   "source": [
    "df['wkswork2']=df['wkswork2'].str.replace('?','') #Replace ? with blanks"
   ]
  },
  {
   "cell_type": "code",
   "execution_count": 73,
   "metadata": {},
   "outputs": [],
   "source": [
    "df['wkswork2']=df['wkswork2'].replace(r'\\s+( +\\.)|#',np.nan,regex=True).replace('',np.nan) #Replace blanks with NaN"
   ]
  },
  {
   "cell_type": "code",
   "execution_count": 74,
   "metadata": {},
   "outputs": [
    {
     "data": {
      "text/plain": [
       "50-52_weeks    2771\n",
       "40-47_weeks     444\n",
       "1-13_weeks      372\n",
       "14-26_weeks     367\n",
       "27-39_weeks     352\n",
       "48-49_weeks     340\n",
       "Name: wkswork2, dtype: int64"
      ]
     },
     "execution_count": 74,
     "metadata": {},
     "output_type": "execute_result"
    }
   ],
   "source": [
    "df['wkswork2'].value_counts()"
   ]
  },
  {
   "cell_type": "code",
   "execution_count": 75,
   "metadata": {},
   "outputs": [
    {
     "data": {
      "text/plain": [
       "year           0\n",
       "gq             0\n",
       "gqtypeg        0\n",
       "farm           0\n",
       "ownershg       0\n",
       "value          0\n",
       "rent           0\n",
       "ftotinc        0\n",
       "nfams          0\n",
       "ncouples       0\n",
       "nmothers       0\n",
       "nfathers       0\n",
       "momloc         0\n",
       "stepmom        0\n",
       "momrule        0\n",
       "poploc         0\n",
       "steppop        0\n",
       "poprule        0\n",
       "sploc          0\n",
       "sprule         0\n",
       "famsize        0\n",
       "nchild         0\n",
       "nchlt5         0\n",
       "famunit        0\n",
       "eldch          0\n",
       "yngch          0\n",
       "nsibs          0\n",
       "relateg        0\n",
       "age            0\n",
       "sex            0\n",
       "            ... \n",
       "marst          0\n",
       "chborn         0\n",
       "bplg           0\n",
       "school         0\n",
       "educrec        0\n",
       "schltype       0\n",
       "empstatg       0\n",
       "labforce       0\n",
       "occ1950        0\n",
       "occscore       0\n",
       "sei            0\n",
       "ind1950        0\n",
       "classwkg       0\n",
       "wkswork2    4198\n",
       "hrswork2       0\n",
       "yrlastwk       0\n",
       "workedyr       0\n",
       "inctot         0\n",
       "incwage        0\n",
       "incbus         0\n",
       "incfarm        0\n",
       "incss          0\n",
       "incwelfr       0\n",
       "incother       0\n",
       "poverty        0\n",
       "migrat5g       0\n",
       "migplac5       0\n",
       "movedin        0\n",
       "vetstat        0\n",
       "tranwork       0\n",
       "Length: 61, dtype: int64"
      ]
     },
     "execution_count": 75,
     "metadata": {},
     "output_type": "execute_result"
    }
   ],
   "source": [
    "df.isnull().sum() # In chborn 4198 Missing Values are there"
   ]
  },
  {
   "cell_type": "code",
   "execution_count": 76,
   "metadata": {},
   "outputs": [],
   "source": [
    "df['wkswork2']=df['wkswork2'].fillna('50-52_weeks')"
   ]
  },
  {
   "cell_type": "code",
   "execution_count": 77,
   "metadata": {},
   "outputs": [
    {
     "data": {
      "text/plain": [
       "50-52_weeks    6969\n",
       "40-47_weeks     444\n",
       "1-13_weeks      372\n",
       "14-26_weeks     367\n",
       "27-39_weeks     352\n",
       "48-49_weeks     340\n",
       "Name: wkswork2, dtype: int64"
      ]
     },
     "execution_count": 77,
     "metadata": {},
     "output_type": "execute_result"
    }
   ],
   "source": [
    "df['wkswork2'].value_counts()"
   ]
  },
  {
   "cell_type": "code",
   "execution_count": 78,
   "metadata": {},
   "outputs": [
    {
     "data": {
      "text/plain": [
       "?              4782\n",
       "40_hours       2044\n",
       "49-59_hours     418\n",
       "41-48_hours     417\n",
       "15-29_hours     374\n",
       "60+_hours       285\n",
       "30-34_hours     206\n",
       "1-14_hours      169\n",
       "35-39_hours     149\n",
       "Name: hrswork2, dtype: int64"
      ]
     },
     "execution_count": 78,
     "metadata": {},
     "output_type": "execute_result"
    }
   ],
   "source": [
    "df['hrswork2'].value_counts()"
   ]
  },
  {
   "cell_type": "code",
   "execution_count": 79,
   "metadata": {},
   "outputs": [],
   "source": [
    "df['hrswork2']=df['hrswork2'].str.replace('?','') #Replace ? with blanks"
   ]
  },
  {
   "cell_type": "code",
   "execution_count": 80,
   "metadata": {},
   "outputs": [],
   "source": [
    "df['hrswork2']=df['hrswork2'].replace(r'\\s+( +\\.)|#',np.nan,regex=True).replace('',np.nan) #Replace blanks with NaN"
   ]
  },
  {
   "cell_type": "code",
   "execution_count": 81,
   "metadata": {},
   "outputs": [
    {
     "data": {
      "text/plain": [
       "40_hours       2044\n",
       "49-59_hours     418\n",
       "41-48_hours     417\n",
       "15-29_hours     374\n",
       "60+_hours       285\n",
       "30-34_hours     206\n",
       "1-14_hours      169\n",
       "35-39_hours     149\n",
       "Name: hrswork2, dtype: int64"
      ]
     },
     "execution_count": 81,
     "metadata": {},
     "output_type": "execute_result"
    }
   ],
   "source": [
    "df['hrswork2'].value_counts()"
   ]
  },
  {
   "cell_type": "code",
   "execution_count": 82,
   "metadata": {},
   "outputs": [
    {
     "data": {
      "text/plain": [
       "year           0\n",
       "gq             0\n",
       "gqtypeg        0\n",
       "farm           0\n",
       "ownershg       0\n",
       "value          0\n",
       "rent           0\n",
       "ftotinc        0\n",
       "nfams          0\n",
       "ncouples       0\n",
       "nmothers       0\n",
       "nfathers       0\n",
       "momloc         0\n",
       "stepmom        0\n",
       "momrule        0\n",
       "poploc         0\n",
       "steppop        0\n",
       "poprule        0\n",
       "sploc          0\n",
       "sprule         0\n",
       "famsize        0\n",
       "nchild         0\n",
       "nchlt5         0\n",
       "famunit        0\n",
       "eldch          0\n",
       "yngch          0\n",
       "nsibs          0\n",
       "relateg        0\n",
       "age            0\n",
       "sex            0\n",
       "            ... \n",
       "marst          0\n",
       "chborn         0\n",
       "bplg           0\n",
       "school         0\n",
       "educrec        0\n",
       "schltype       0\n",
       "empstatg       0\n",
       "labforce       0\n",
       "occ1950        0\n",
       "occscore       0\n",
       "sei            0\n",
       "ind1950        0\n",
       "classwkg       0\n",
       "wkswork2       0\n",
       "hrswork2    4782\n",
       "yrlastwk       0\n",
       "workedyr       0\n",
       "inctot         0\n",
       "incwage        0\n",
       "incbus         0\n",
       "incfarm        0\n",
       "incss          0\n",
       "incwelfr       0\n",
       "incother       0\n",
       "poverty        0\n",
       "migrat5g       0\n",
       "migplac5       0\n",
       "movedin        0\n",
       "vetstat        0\n",
       "tranwork       0\n",
       "Length: 61, dtype: int64"
      ]
     },
     "execution_count": 82,
     "metadata": {},
     "output_type": "execute_result"
    }
   ],
   "source": [
    "df.isnull().sum() # In chborn 4782 Missing Values are there"
   ]
  },
  {
   "cell_type": "code",
   "execution_count": 83,
   "metadata": {},
   "outputs": [],
   "source": [
    "df['hrswork2']=df['hrswork2'].fillna('40_hours')"
   ]
  },
  {
   "cell_type": "code",
   "execution_count": 84,
   "metadata": {},
   "outputs": [
    {
     "data": {
      "text/plain": [
       "40_hours       6826\n",
       "49-59_hours     418\n",
       "41-48_hours     417\n",
       "15-29_hours     374\n",
       "60+_hours       285\n",
       "30-34_hours     206\n",
       "1-14_hours      169\n",
       "35-39_hours     149\n",
       "Name: hrswork2, dtype: int64"
      ]
     },
     "execution_count": 84,
     "metadata": {},
     "output_type": "execute_result"
    }
   ],
   "source": [
    "df['hrswork2'].value_counts()"
   ]
  },
  {
   "cell_type": "code",
   "execution_count": 85,
   "metadata": {},
   "outputs": [
    {
     "data": {
      "text/plain": [
       "?                              6172\n",
       "Never_worked                    660\n",
       "Worked_more_than_10_yrs_ago     583\n",
       "Worked_previous_yr              480\n",
       "Worked_6-10_yrs_ago             318\n",
       "Worked_current_yr               298\n",
       "Worked_3-5_yrs_ago              207\n",
       "Worked_2_yrs_prior              126\n",
       "Name: yrlastwk, dtype: int64"
      ]
     },
     "execution_count": 85,
     "metadata": {},
     "output_type": "execute_result"
    }
   ],
   "source": [
    "df['yrlastwk'].value_counts()"
   ]
  },
  {
   "cell_type": "code",
   "execution_count": 86,
   "metadata": {},
   "outputs": [],
   "source": [
    "df['yrlastwk']=df['yrlastwk'].str.replace('?','') #Replace ? with blanks"
   ]
  },
  {
   "cell_type": "code",
   "execution_count": 87,
   "metadata": {},
   "outputs": [],
   "source": [
    "df['yrlastwk']=df['yrlastwk'].replace(r'\\s+( +\\.)|#',np.nan,regex=True).replace('',np.nan) #Replace blanks with NaN"
   ]
  },
  {
   "cell_type": "code",
   "execution_count": 88,
   "metadata": {},
   "outputs": [
    {
     "data": {
      "text/plain": [
       "Never_worked                   660\n",
       "Worked_more_than_10_yrs_ago    583\n",
       "Worked_previous_yr             480\n",
       "Worked_6-10_yrs_ago            318\n",
       "Worked_current_yr              298\n",
       "Worked_3-5_yrs_ago             207\n",
       "Worked_2_yrs_prior             126\n",
       "Name: yrlastwk, dtype: int64"
      ]
     },
     "execution_count": 88,
     "metadata": {},
     "output_type": "execute_result"
    }
   ],
   "source": [
    "df['yrlastwk'].value_counts()"
   ]
  },
  {
   "cell_type": "code",
   "execution_count": 89,
   "metadata": {},
   "outputs": [
    {
     "data": {
      "text/plain": [
       "year           0\n",
       "gq             0\n",
       "gqtypeg        0\n",
       "farm           0\n",
       "ownershg       0\n",
       "value          0\n",
       "rent           0\n",
       "ftotinc        0\n",
       "nfams          0\n",
       "ncouples       0\n",
       "nmothers       0\n",
       "nfathers       0\n",
       "momloc         0\n",
       "stepmom        0\n",
       "momrule        0\n",
       "poploc         0\n",
       "steppop        0\n",
       "poprule        0\n",
       "sploc          0\n",
       "sprule         0\n",
       "famsize        0\n",
       "nchild         0\n",
       "nchlt5         0\n",
       "famunit        0\n",
       "eldch          0\n",
       "yngch          0\n",
       "nsibs          0\n",
       "relateg        0\n",
       "age            0\n",
       "sex            0\n",
       "            ... \n",
       "marst          0\n",
       "chborn         0\n",
       "bplg           0\n",
       "school         0\n",
       "educrec        0\n",
       "schltype       0\n",
       "empstatg       0\n",
       "labforce       0\n",
       "occ1950        0\n",
       "occscore       0\n",
       "sei            0\n",
       "ind1950        0\n",
       "classwkg       0\n",
       "wkswork2       0\n",
       "hrswork2       0\n",
       "yrlastwk    6172\n",
       "workedyr       0\n",
       "inctot         0\n",
       "incwage        0\n",
       "incbus         0\n",
       "incfarm        0\n",
       "incss          0\n",
       "incwelfr       0\n",
       "incother       0\n",
       "poverty        0\n",
       "migrat5g       0\n",
       "migplac5       0\n",
       "movedin        0\n",
       "vetstat        0\n",
       "tranwork       0\n",
       "Length: 61, dtype: int64"
      ]
     },
     "execution_count": 89,
     "metadata": {},
     "output_type": "execute_result"
    }
   ],
   "source": [
    "df.isnull().sum() # In chborn 6172 Missing Values are there"
   ]
  },
  {
   "cell_type": "code",
   "execution_count": 90,
   "metadata": {},
   "outputs": [],
   "source": [
    "df['yrlastwk']=df['yrlastwk'].fillna('Worked_3-5_yrs_ago')"
   ]
  },
  {
   "cell_type": "code",
   "execution_count": 91,
   "metadata": {},
   "outputs": [
    {
     "data": {
      "text/plain": [
       "Worked_3-5_yrs_ago             6379\n",
       "Never_worked                    660\n",
       "Worked_more_than_10_yrs_ago     583\n",
       "Worked_previous_yr              480\n",
       "Worked_6-10_yrs_ago             318\n",
       "Worked_current_yr               298\n",
       "Worked_2_yrs_prior              126\n",
       "Name: yrlastwk, dtype: int64"
      ]
     },
     "execution_count": 91,
     "metadata": {},
     "output_type": "execute_result"
    }
   ],
   "source": [
    "df['yrlastwk'].value_counts()"
   ]
  },
  {
   "cell_type": "code",
   "execution_count": 92,
   "metadata": {},
   "outputs": [
    {
     "data": {
      "text/plain": [
       "Yes    4646\n",
       "?      2110\n",
       "No     2088\n",
       "Name: workedyr, dtype: int64"
      ]
     },
     "execution_count": 92,
     "metadata": {},
     "output_type": "execute_result"
    }
   ],
   "source": [
    "df['workedyr'].value_counts()"
   ]
  },
  {
   "cell_type": "code",
   "execution_count": 93,
   "metadata": {},
   "outputs": [],
   "source": [
    "df['workedyr']=df['workedyr'].str.replace('?','') #Replace ? with blanks"
   ]
  },
  {
   "cell_type": "code",
   "execution_count": 94,
   "metadata": {},
   "outputs": [],
   "source": [
    "df['workedyr']=df['workedyr'].replace(r'\\s+( +\\.)|#',np.nan,regex=True).replace('',np.nan) #Replace blanks with NaN"
   ]
  },
  {
   "cell_type": "code",
   "execution_count": 95,
   "metadata": {},
   "outputs": [
    {
     "data": {
      "text/plain": [
       "Yes    4646\n",
       "No     2088\n",
       "Name: workedyr, dtype: int64"
      ]
     },
     "execution_count": 95,
     "metadata": {},
     "output_type": "execute_result"
    }
   ],
   "source": [
    "df['workedyr'].value_counts()"
   ]
  },
  {
   "cell_type": "code",
   "execution_count": 96,
   "metadata": {},
   "outputs": [
    {
     "data": {
      "text/plain": [
       "year           0\n",
       "gq             0\n",
       "gqtypeg        0\n",
       "farm           0\n",
       "ownershg       0\n",
       "value          0\n",
       "rent           0\n",
       "ftotinc        0\n",
       "nfams          0\n",
       "ncouples       0\n",
       "nmothers       0\n",
       "nfathers       0\n",
       "momloc         0\n",
       "stepmom        0\n",
       "momrule        0\n",
       "poploc         0\n",
       "steppop        0\n",
       "poprule        0\n",
       "sploc          0\n",
       "sprule         0\n",
       "famsize        0\n",
       "nchild         0\n",
       "nchlt5         0\n",
       "famunit        0\n",
       "eldch          0\n",
       "yngch          0\n",
       "nsibs          0\n",
       "relateg        0\n",
       "age            0\n",
       "sex            0\n",
       "            ... \n",
       "marst          0\n",
       "chborn         0\n",
       "bplg           0\n",
       "school         0\n",
       "educrec        0\n",
       "schltype       0\n",
       "empstatg       0\n",
       "labforce       0\n",
       "occ1950        0\n",
       "occscore       0\n",
       "sei            0\n",
       "ind1950        0\n",
       "classwkg       0\n",
       "wkswork2       0\n",
       "hrswork2       0\n",
       "yrlastwk       0\n",
       "workedyr    2110\n",
       "inctot         0\n",
       "incwage        0\n",
       "incbus         0\n",
       "incfarm        0\n",
       "incss          0\n",
       "incwelfr       0\n",
       "incother       0\n",
       "poverty        0\n",
       "migrat5g       0\n",
       "migplac5       0\n",
       "movedin        0\n",
       "vetstat        0\n",
       "tranwork       0\n",
       "Length: 61, dtype: int64"
      ]
     },
     "execution_count": 96,
     "metadata": {},
     "output_type": "execute_result"
    }
   ],
   "source": [
    "df.isnull().sum() # In chborn 2110 Missing Values are there"
   ]
  },
  {
   "cell_type": "code",
   "execution_count": 97,
   "metadata": {},
   "outputs": [],
   "source": [
    "df['workedyrc']=df['workedyr'].fillna('Yes')"
   ]
  },
  {
   "cell_type": "code",
   "execution_count": 98,
   "metadata": {},
   "outputs": [
    {
     "data": {
      "text/plain": [
       "Yes    4646\n",
       "No     2088\n",
       "Name: workedyr, dtype: int64"
      ]
     },
     "execution_count": 98,
     "metadata": {},
     "output_type": "execute_result"
    }
   ],
   "source": [
    "df['workedyr'].value_counts()"
   ]
  },
  {
   "cell_type": "code",
   "execution_count": 99,
   "metadata": {},
   "outputs": [
    {
     "data": {
      "text/plain": [
       "?                       4548\n",
       "California              3228\n",
       "Abroad_n_s               674\n",
       "Texas                     36\n",
       "New_York                  32\n",
       "Illinois                  21\n",
       "Florida                   20\n",
       "Ohio                      17\n",
       "Colorado                  16\n",
       "Arizona                   16\n",
       "Oregon                    16\n",
       "Pennsylvania              14\n",
       "New_Jersey                12\n",
       "Washington                12\n",
       "Massachusetts             12\n",
       "Utah                      12\n",
       "Hawaii                    10\n",
       "Oklahoma                   9\n",
       "Michigan                   9\n",
       "Louisiana                  9\n",
       "North_Carolina             8\n",
       "Nevada                     8\n",
       "New_Mexico                 7\n",
       "Iowa                       7\n",
       "Kansas                     7\n",
       "Missouri                   6\n",
       "Indiana                    6\n",
       "District_of_Columbia       6\n",
       "Minnesota                  6\n",
       "South_Carolina             5\n",
       "Tennessee                  5\n",
       "Idaho                      5\n",
       "Mississippi                5\n",
       "Georgia                    4\n",
       "Puerto_Rico                4\n",
       "Connecticut                4\n",
       "Wisconsin                  4\n",
       "Virginia                   3\n",
       "South_Dakota               3\n",
       "Vermont                    2\n",
       "West_Virginia              2\n",
       "Alabama                    2\n",
       "Montana                    2\n",
       "Nebraska                   2\n",
       "Alaska                     2\n",
       "New_Hampshire              1\n",
       "Maine                      1\n",
       "Rhode_Island               1\n",
       "Maryland                   1\n",
       "Arkansas                   1\n",
       "Kentucky                   1\n",
       "Name: migplac5, dtype: int64"
      ]
     },
     "execution_count": 99,
     "metadata": {},
     "output_type": "execute_result"
    }
   ],
   "source": [
    "df['migplac5'].value_counts()"
   ]
  },
  {
   "cell_type": "code",
   "execution_count": 100,
   "metadata": {},
   "outputs": [],
   "source": [
    "df['migplac5']=df['migplac5'].str.replace('?','') #Replace ? with blanks"
   ]
  },
  {
   "cell_type": "code",
   "execution_count": 101,
   "metadata": {},
   "outputs": [],
   "source": [
    "df['migplac5']=df['migplac5'].replace(r'\\s+( +\\.)|#',np.nan,regex=True).replace('',np.nan)"
   ]
  },
  {
   "cell_type": "code",
   "execution_count": 102,
   "metadata": {},
   "outputs": [
    {
     "data": {
      "text/plain": [
       "California              3228\n",
       "Abroad_n_s               674\n",
       "Texas                     36\n",
       "New_York                  32\n",
       "Illinois                  21\n",
       "Florida                   20\n",
       "Ohio                      17\n",
       "Colorado                  16\n",
       "Arizona                   16\n",
       "Oregon                    16\n",
       "Pennsylvania              14\n",
       "Massachusetts             12\n",
       "Washington                12\n",
       "New_Jersey                12\n",
       "Utah                      12\n",
       "Hawaii                    10\n",
       "Michigan                   9\n",
       "Oklahoma                   9\n",
       "Louisiana                  9\n",
       "North_Carolina             8\n",
       "Nevada                     8\n",
       "New_Mexico                 7\n",
       "Iowa                       7\n",
       "Kansas                     7\n",
       "Missouri                   6\n",
       "Indiana                    6\n",
       "District_of_Columbia       6\n",
       "Minnesota                  6\n",
       "South_Carolina             5\n",
       "Tennessee                  5\n",
       "Idaho                      5\n",
       "Mississippi                5\n",
       "Georgia                    4\n",
       "Puerto_Rico                4\n",
       "Connecticut                4\n",
       "Wisconsin                  4\n",
       "Virginia                   3\n",
       "South_Dakota               3\n",
       "Vermont                    2\n",
       "West_Virginia              2\n",
       "Alabama                    2\n",
       "Montana                    2\n",
       "Nebraska                   2\n",
       "Alaska                     2\n",
       "New_Hampshire              1\n",
       "Maine                      1\n",
       "Rhode_Island               1\n",
       "Maryland                   1\n",
       "Arkansas                   1\n",
       "Kentucky                   1\n",
       "Name: migplac5, dtype: int64"
      ]
     },
     "execution_count": 102,
     "metadata": {},
     "output_type": "execute_result"
    }
   ],
   "source": [
    "df['migplac5'].value_counts()"
   ]
  },
  {
   "cell_type": "code",
   "execution_count": 103,
   "metadata": {},
   "outputs": [
    {
     "data": {
      "text/plain": [
       "year            0\n",
       "gq              0\n",
       "gqtypeg         0\n",
       "farm            0\n",
       "ownershg        0\n",
       "value           0\n",
       "rent            0\n",
       "ftotinc         0\n",
       "nfams           0\n",
       "ncouples        0\n",
       "nmothers        0\n",
       "nfathers        0\n",
       "momloc          0\n",
       "stepmom         0\n",
       "momrule         0\n",
       "poploc          0\n",
       "steppop         0\n",
       "poprule         0\n",
       "sploc           0\n",
       "sprule          0\n",
       "famsize         0\n",
       "nchild          0\n",
       "nchlt5          0\n",
       "famunit         0\n",
       "eldch           0\n",
       "yngch           0\n",
       "nsibs           0\n",
       "relateg         0\n",
       "age             0\n",
       "sex             0\n",
       "             ... \n",
       "chborn          0\n",
       "bplg            0\n",
       "school          0\n",
       "educrec         0\n",
       "schltype        0\n",
       "empstatg        0\n",
       "labforce        0\n",
       "occ1950         0\n",
       "occscore        0\n",
       "sei             0\n",
       "ind1950         0\n",
       "classwkg        0\n",
       "wkswork2        0\n",
       "hrswork2        0\n",
       "yrlastwk        0\n",
       "workedyr     2110\n",
       "inctot          0\n",
       "incwage         0\n",
       "incbus          0\n",
       "incfarm         0\n",
       "incss           0\n",
       "incwelfr        0\n",
       "incother        0\n",
       "poverty         0\n",
       "migrat5g        0\n",
       "migplac5     4548\n",
       "movedin         0\n",
       "vetstat         0\n",
       "tranwork        0\n",
       "workedyrc       0\n",
       "Length: 62, dtype: int64"
      ]
     },
     "execution_count": 103,
     "metadata": {},
     "output_type": "execute_result"
    }
   ],
   "source": [
    "df.isnull().sum() # In chborn 4548 Missing Values are there"
   ]
  },
  {
   "cell_type": "code",
   "execution_count": 104,
   "metadata": {},
   "outputs": [],
   "source": [
    "df['migplac5']=df['migplac5'].fillna('California')"
   ]
  },
  {
   "cell_type": "code",
   "execution_count": 105,
   "metadata": {},
   "outputs": [
    {
     "data": {
      "text/plain": [
       "California              7776\n",
       "Abroad_n_s               674\n",
       "Texas                     36\n",
       "New_York                  32\n",
       "Illinois                  21\n",
       "Florida                   20\n",
       "Ohio                      17\n",
       "Colorado                  16\n",
       "Arizona                   16\n",
       "Oregon                    16\n",
       "Pennsylvania              14\n",
       "Massachusetts             12\n",
       "Washington                12\n",
       "New_Jersey                12\n",
       "Utah                      12\n",
       "Hawaii                    10\n",
       "Michigan                   9\n",
       "Oklahoma                   9\n",
       "Louisiana                  9\n",
       "North_Carolina             8\n",
       "Nevada                     8\n",
       "New_Mexico                 7\n",
       "Iowa                       7\n",
       "Kansas                     7\n",
       "Missouri                   6\n",
       "Indiana                    6\n",
       "District_of_Columbia       6\n",
       "Minnesota                  6\n",
       "South_Carolina             5\n",
       "Tennessee                  5\n",
       "Idaho                      5\n",
       "Mississippi                5\n",
       "Georgia                    4\n",
       "Puerto_Rico                4\n",
       "Connecticut                4\n",
       "Wisconsin                  4\n",
       "Virginia                   3\n",
       "South_Dakota               3\n",
       "Vermont                    2\n",
       "West_Virginia              2\n",
       "Alabama                    2\n",
       "Montana                    2\n",
       "Nebraska                   2\n",
       "Alaska                     2\n",
       "New_Hampshire              1\n",
       "Maine                      1\n",
       "Rhode_Island               1\n",
       "Maryland                   1\n",
       "Arkansas                   1\n",
       "Kentucky                   1\n",
       "Name: migplac5, dtype: int64"
      ]
     },
     "execution_count": 105,
     "metadata": {},
     "output_type": "execute_result"
    }
   ],
   "source": [
    "df['migplac5'].value_counts()"
   ]
  },
  {
   "cell_type": "code",
   "execution_count": 106,
   "metadata": {},
   "outputs": [
    {
     "data": {
      "text/plain": [
       "No_Service    5983\n",
       "?             2110\n",
       "Yes            751\n",
       "Name: vetstat, dtype: int64"
      ]
     },
     "execution_count": 106,
     "metadata": {},
     "output_type": "execute_result"
    }
   ],
   "source": [
    "df['vetstat'].value_counts()"
   ]
  },
  {
   "cell_type": "code",
   "execution_count": 107,
   "metadata": {},
   "outputs": [],
   "source": [
    "df['vetstat']=df['vetstat'].str.replace('?','') #Replace ? with blanks"
   ]
  },
  {
   "cell_type": "code",
   "execution_count": 108,
   "metadata": {},
   "outputs": [],
   "source": [
    "df['vetstat']=df['vetstat'].replace(r'\\s+( +\\.)|#',np.nan,regex=True).replace('',np.nan) #Replace blanks with NaN"
   ]
  },
  {
   "cell_type": "code",
   "execution_count": 109,
   "metadata": {},
   "outputs": [
    {
     "data": {
      "text/plain": [
       "No_Service    5983\n",
       "Yes            751\n",
       "Name: vetstat, dtype: int64"
      ]
     },
     "execution_count": 109,
     "metadata": {},
     "output_type": "execute_result"
    }
   ],
   "source": [
    "df['vetstat'].value_counts()"
   ]
  },
  {
   "cell_type": "code",
   "execution_count": 110,
   "metadata": {},
   "outputs": [
    {
     "data": {
      "text/plain": [
       "year            0\n",
       "gq              0\n",
       "gqtypeg         0\n",
       "farm            0\n",
       "ownershg        0\n",
       "value           0\n",
       "rent            0\n",
       "ftotinc         0\n",
       "nfams           0\n",
       "ncouples        0\n",
       "nmothers        0\n",
       "nfathers        0\n",
       "momloc          0\n",
       "stepmom         0\n",
       "momrule         0\n",
       "poploc          0\n",
       "steppop         0\n",
       "poprule         0\n",
       "sploc           0\n",
       "sprule          0\n",
       "famsize         0\n",
       "nchild          0\n",
       "nchlt5          0\n",
       "famunit         0\n",
       "eldch           0\n",
       "yngch           0\n",
       "nsibs           0\n",
       "relateg         0\n",
       "age             0\n",
       "sex             0\n",
       "             ... \n",
       "chborn          0\n",
       "bplg            0\n",
       "school          0\n",
       "educrec         0\n",
       "schltype        0\n",
       "empstatg        0\n",
       "labforce        0\n",
       "occ1950         0\n",
       "occscore        0\n",
       "sei             0\n",
       "ind1950         0\n",
       "classwkg        0\n",
       "wkswork2        0\n",
       "hrswork2        0\n",
       "yrlastwk        0\n",
       "workedyr     2110\n",
       "inctot          0\n",
       "incwage         0\n",
       "incbus          0\n",
       "incfarm         0\n",
       "incss           0\n",
       "incwelfr        0\n",
       "incother        0\n",
       "poverty         0\n",
       "migrat5g        0\n",
       "migplac5        0\n",
       "movedin         0\n",
       "vetstat      2110\n",
       "tranwork        0\n",
       "workedyrc       0\n",
       "Length: 62, dtype: int64"
      ]
     },
     "execution_count": 110,
     "metadata": {},
     "output_type": "execute_result"
    }
   ],
   "source": [
    "df.isnull().sum() # In chborn 2110 Missing Values are there"
   ]
  },
  {
   "cell_type": "code",
   "execution_count": 111,
   "metadata": {},
   "outputs": [],
   "source": [
    "df['vetstat']=df['vetstat'].fillna('Yes')"
   ]
  },
  {
   "cell_type": "code",
   "execution_count": 112,
   "metadata": {},
   "outputs": [
    {
     "data": {
      "text/plain": [
       "No_Service    5983\n",
       "Yes           2861\n",
       "Name: vetstat, dtype: int64"
      ]
     },
     "execution_count": 112,
     "metadata": {},
     "output_type": "execute_result"
    }
   ],
   "source": [
    "df['vetstat'].value_counts()"
   ]
  },
  {
   "cell_type": "code",
   "execution_count": 113,
   "metadata": {},
   "outputs": [
    {
     "data": {
      "text/plain": [
       "?                     4782\n",
       "Auto_truck_or_van     3494\n",
       "Bus_or_trolley_bus     255\n",
       "Walked_only            126\n",
       "Worked_at_home         103\n",
       "Other                   34\n",
       "Bicycle                 27\n",
       "Motorcycle              17\n",
       "Taxicab                  5\n",
       "Subway_or_elevated       1\n",
       "Name: tranwork, dtype: int64"
      ]
     },
     "execution_count": 113,
     "metadata": {},
     "output_type": "execute_result"
    }
   ],
   "source": [
    "df['tranwork'].value_counts()"
   ]
  },
  {
   "cell_type": "code",
   "execution_count": 114,
   "metadata": {},
   "outputs": [],
   "source": [
    "df['tranwork']=df['tranwork'].str.replace('?','') #Replace ? with blanks"
   ]
  },
  {
   "cell_type": "code",
   "execution_count": 115,
   "metadata": {},
   "outputs": [],
   "source": [
    "df['tranwork']=df['tranwork'].replace(r'\\s+( +\\.)|#',np.nan,regex=True).replace('',np.nan) #Replace blanks with NaN"
   ]
  },
  {
   "cell_type": "code",
   "execution_count": 116,
   "metadata": {},
   "outputs": [
    {
     "data": {
      "text/plain": [
       "Auto_truck_or_van     3494\n",
       "Bus_or_trolley_bus     255\n",
       "Walked_only            126\n",
       "Worked_at_home         103\n",
       "Other                   34\n",
       "Bicycle                 27\n",
       "Motorcycle              17\n",
       "Taxicab                  5\n",
       "Subway_or_elevated       1\n",
       "Name: tranwork, dtype: int64"
      ]
     },
     "execution_count": 116,
     "metadata": {},
     "output_type": "execute_result"
    }
   ],
   "source": [
    "df['tranwork'].value_counts()"
   ]
  },
  {
   "cell_type": "code",
   "execution_count": 117,
   "metadata": {},
   "outputs": [
    {
     "data": {
      "text/plain": [
       "year            0\n",
       "gq              0\n",
       "gqtypeg         0\n",
       "farm            0\n",
       "ownershg        0\n",
       "value           0\n",
       "rent            0\n",
       "ftotinc         0\n",
       "nfams           0\n",
       "ncouples        0\n",
       "nmothers        0\n",
       "nfathers        0\n",
       "momloc          0\n",
       "stepmom         0\n",
       "momrule         0\n",
       "poploc          0\n",
       "steppop         0\n",
       "poprule         0\n",
       "sploc           0\n",
       "sprule          0\n",
       "famsize         0\n",
       "nchild          0\n",
       "nchlt5          0\n",
       "famunit         0\n",
       "eldch           0\n",
       "yngch           0\n",
       "nsibs           0\n",
       "relateg         0\n",
       "age             0\n",
       "sex             0\n",
       "             ... \n",
       "chborn          0\n",
       "bplg            0\n",
       "school          0\n",
       "educrec         0\n",
       "schltype        0\n",
       "empstatg        0\n",
       "labforce        0\n",
       "occ1950         0\n",
       "occscore        0\n",
       "sei             0\n",
       "ind1950         0\n",
       "classwkg        0\n",
       "wkswork2        0\n",
       "hrswork2        0\n",
       "yrlastwk        0\n",
       "workedyr     2110\n",
       "inctot          0\n",
       "incwage         0\n",
       "incbus          0\n",
       "incfarm         0\n",
       "incss           0\n",
       "incwelfr        0\n",
       "incother        0\n",
       "poverty         0\n",
       "migrat5g        0\n",
       "migplac5        0\n",
       "movedin         0\n",
       "vetstat         0\n",
       "tranwork     4782\n",
       "workedyrc       0\n",
       "Length: 62, dtype: int64"
      ]
     },
     "execution_count": 117,
     "metadata": {},
     "output_type": "execute_result"
    }
   ],
   "source": [
    "df.isnull().sum() # In chborn 4782 Missing Values are there"
   ]
  },
  {
   "cell_type": "code",
   "execution_count": 118,
   "metadata": {},
   "outputs": [],
   "source": [
    "df['tranwork']=df['tranwork'].fillna('Motorcycle')"
   ]
  },
  {
   "cell_type": "code",
   "execution_count": 119,
   "metadata": {},
   "outputs": [
    {
     "data": {
      "text/plain": [
       "Motorcycle            4799\n",
       "Auto_truck_or_van     3494\n",
       "Bus_or_trolley_bus     255\n",
       "Walked_only            126\n",
       "Worked_at_home         103\n",
       "Other                   34\n",
       "Bicycle                 27\n",
       "Taxicab                  5\n",
       "Subway_or_elevated       1\n",
       "Name: tranwork, dtype: int64"
      ]
     },
     "execution_count": 119,
     "metadata": {},
     "output_type": "execute_result"
    }
   ],
   "source": [
    "df['tranwork'].value_counts()"
   ]
  },
  {
   "cell_type": "code",
   "execution_count": 120,
   "metadata": {},
   "outputs": [
    {
     "data": {
      "text/plain": [
       "year            0\n",
       "gq              0\n",
       "gqtypeg         0\n",
       "farm            0\n",
       "ownershg        0\n",
       "value           0\n",
       "rent            0\n",
       "ftotinc         0\n",
       "nfams           0\n",
       "ncouples        0\n",
       "nmothers        0\n",
       "nfathers        0\n",
       "momloc          0\n",
       "stepmom         0\n",
       "momrule         0\n",
       "poploc          0\n",
       "steppop         0\n",
       "poprule         0\n",
       "sploc           0\n",
       "sprule          0\n",
       "famsize         0\n",
       "nchild          0\n",
       "nchlt5          0\n",
       "famunit         0\n",
       "eldch           0\n",
       "yngch           0\n",
       "nsibs           0\n",
       "relateg         0\n",
       "age             0\n",
       "sex             0\n",
       "             ... \n",
       "chborn          0\n",
       "bplg            0\n",
       "school          0\n",
       "educrec         0\n",
       "schltype        0\n",
       "empstatg        0\n",
       "labforce        0\n",
       "occ1950         0\n",
       "occscore        0\n",
       "sei             0\n",
       "ind1950         0\n",
       "classwkg        0\n",
       "wkswork2        0\n",
       "hrswork2        0\n",
       "yrlastwk        0\n",
       "workedyr     2110\n",
       "inctot          0\n",
       "incwage         0\n",
       "incbus          0\n",
       "incfarm         0\n",
       "incss           0\n",
       "incwelfr        0\n",
       "incother        0\n",
       "poverty         0\n",
       "migrat5g        0\n",
       "migplac5        0\n",
       "movedin         0\n",
       "vetstat         0\n",
       "tranwork        0\n",
       "workedyrc       0\n",
       "Length: 62, dtype: int64"
      ]
     },
     "execution_count": 120,
     "metadata": {},
     "output_type": "execute_result"
    }
   ],
   "source": [
    "df.isnull().sum()"
   ]
  },
  {
   "cell_type": "code",
   "execution_count": 121,
   "metadata": {},
   "outputs": [],
   "source": [
    "df1=df"
   ]
  },
  {
   "cell_type": "code",
   "execution_count": 122,
   "metadata": {},
   "outputs": [
    {
     "data": {
      "text/html": [
       "<div>\n",
       "<style scoped>\n",
       "    .dataframe tbody tr th:only-of-type {\n",
       "        vertical-align: middle;\n",
       "    }\n",
       "\n",
       "    .dataframe tbody tr th {\n",
       "        vertical-align: top;\n",
       "    }\n",
       "\n",
       "    .dataframe thead th {\n",
       "        text-align: right;\n",
       "    }\n",
       "</style>\n",
       "<table border=\"1\" class=\"dataframe\">\n",
       "  <thead>\n",
       "    <tr style=\"text-align: right;\">\n",
       "      <th></th>\n",
       "      <th>year</th>\n",
       "      <th>gq</th>\n",
       "      <th>gqtypeg</th>\n",
       "      <th>farm</th>\n",
       "      <th>ownershg</th>\n",
       "      <th>value</th>\n",
       "      <th>rent</th>\n",
       "      <th>ftotinc</th>\n",
       "      <th>nfams</th>\n",
       "      <th>ncouples</th>\n",
       "      <th>...</th>\n",
       "      <th>incss</th>\n",
       "      <th>incwelfr</th>\n",
       "      <th>incother</th>\n",
       "      <th>poverty</th>\n",
       "      <th>migrat5g</th>\n",
       "      <th>migplac5</th>\n",
       "      <th>movedin</th>\n",
       "      <th>vetstat</th>\n",
       "      <th>tranwork</th>\n",
       "      <th>workedyrc</th>\n",
       "    </tr>\n",
       "  </thead>\n",
       "  <tbody>\n",
       "    <tr>\n",
       "      <th>0</th>\n",
       "      <td>99</td>\n",
       "      <td>HH_in_1970_definition_but_sampled_as_larger_unit</td>\n",
       "      <td>NA_(household)</td>\n",
       "      <td>Non-Farm</td>\n",
       "      <td>Rented</td>\n",
       "      <td>999999</td>\n",
       "      <td>412</td>\n",
       "      <td>23000</td>\n",
       "      <td>2</td>\n",
       "      <td>0</td>\n",
       "      <td>...</td>\n",
       "      <td>99999</td>\n",
       "      <td>99999</td>\n",
       "      <td>99999</td>\n",
       "      <td>116</td>\n",
       "      <td>Same_house</td>\n",
       "      <td>California</td>\n",
       "      <td>0</td>\n",
       "      <td>Yes</td>\n",
       "      <td>Motorcycle</td>\n",
       "      <td>Yes</td>\n",
       "    </tr>\n",
       "    <tr>\n",
       "      <th>1</th>\n",
       "      <td>99</td>\n",
       "      <td>HH_in_1970_definition_but_sampled_as_larger_unit</td>\n",
       "      <td>NA_(household)</td>\n",
       "      <td>Non-Farm</td>\n",
       "      <td>Owned_or_being_bought_(loan)</td>\n",
       "      <td>162500</td>\n",
       "      <td>0</td>\n",
       "      <td>38008</td>\n",
       "      <td>2</td>\n",
       "      <td>0</td>\n",
       "      <td>...</td>\n",
       "      <td>0</td>\n",
       "      <td>0</td>\n",
       "      <td>0</td>\n",
       "      <td>501</td>\n",
       "      <td>Moved_place_not_reported</td>\n",
       "      <td>Michigan</td>\n",
       "      <td>2</td>\n",
       "      <td>No_Service</td>\n",
       "      <td>Auto_truck_or_van</td>\n",
       "      <td>Yes</td>\n",
       "    </tr>\n",
       "    <tr>\n",
       "      <th>2</th>\n",
       "      <td>99</td>\n",
       "      <td>HH_in_1970_definition_but_sampled_as_larger_unit</td>\n",
       "      <td>NA_(household)</td>\n",
       "      <td>Non-Farm</td>\n",
       "      <td>Rented</td>\n",
       "      <td>999999</td>\n",
       "      <td>675</td>\n",
       "      <td>0</td>\n",
       "      <td>1</td>\n",
       "      <td>0</td>\n",
       "      <td>...</td>\n",
       "      <td>99999</td>\n",
       "      <td>99999</td>\n",
       "      <td>99999</td>\n",
       "      <td>1</td>\n",
       "      <td>Moved_place_not_reported</td>\n",
       "      <td>California</td>\n",
       "      <td>0</td>\n",
       "      <td>Yes</td>\n",
       "      <td>Motorcycle</td>\n",
       "      <td>Yes</td>\n",
       "    </tr>\n",
       "    <tr>\n",
       "      <th>3</th>\n",
       "      <td>99</td>\n",
       "      <td>HH_in_1970_definition_but_sampled_as_larger_unit</td>\n",
       "      <td>NA_(household)</td>\n",
       "      <td>Non-Farm</td>\n",
       "      <td>Rented</td>\n",
       "      <td>999999</td>\n",
       "      <td>725</td>\n",
       "      <td>23008</td>\n",
       "      <td>2</td>\n",
       "      <td>1</td>\n",
       "      <td>...</td>\n",
       "      <td>99999</td>\n",
       "      <td>99999</td>\n",
       "      <td>99999</td>\n",
       "      <td>155</td>\n",
       "      <td>?</td>\n",
       "      <td>California</td>\n",
       "      <td>0</td>\n",
       "      <td>Yes</td>\n",
       "      <td>Motorcycle</td>\n",
       "      <td>Yes</td>\n",
       "    </tr>\n",
       "    <tr>\n",
       "      <th>4</th>\n",
       "      <td>99</td>\n",
       "      <td>HH_in_1970_definition_but_sampled_as_larger_unit</td>\n",
       "      <td>NA_(household)</td>\n",
       "      <td>Non-Farm</td>\n",
       "      <td>Owned_or_being_bought_(loan)</td>\n",
       "      <td>400000</td>\n",
       "      <td>0</td>\n",
       "      <td>104000</td>\n",
       "      <td>1</td>\n",
       "      <td>1</td>\n",
       "      <td>...</td>\n",
       "      <td>99999</td>\n",
       "      <td>99999</td>\n",
       "      <td>99999</td>\n",
       "      <td>501</td>\n",
       "      <td>Same_house</td>\n",
       "      <td>California</td>\n",
       "      <td>0</td>\n",
       "      <td>Yes</td>\n",
       "      <td>Motorcycle</td>\n",
       "      <td>Yes</td>\n",
       "    </tr>\n",
       "  </tbody>\n",
       "</table>\n",
       "<p>5 rows × 62 columns</p>\n",
       "</div>"
      ],
      "text/plain": [
       "   year                                                gq         gqtypeg  \\\n",
       "0    99  HH_in_1970_definition_but_sampled_as_larger_unit  NA_(household)   \n",
       "1    99  HH_in_1970_definition_but_sampled_as_larger_unit  NA_(household)   \n",
       "2    99  HH_in_1970_definition_but_sampled_as_larger_unit  NA_(household)   \n",
       "3    99  HH_in_1970_definition_but_sampled_as_larger_unit  NA_(household)   \n",
       "4    99  HH_in_1970_definition_but_sampled_as_larger_unit  NA_(household)   \n",
       "\n",
       "       farm                      ownershg   value  rent  ftotinc  nfams  \\\n",
       "0  Non-Farm                        Rented  999999   412    23000      2   \n",
       "1  Non-Farm  Owned_or_being_bought_(loan)  162500     0    38008      2   \n",
       "2  Non-Farm                        Rented  999999   675        0      1   \n",
       "3  Non-Farm                        Rented  999999   725    23008      2   \n",
       "4  Non-Farm  Owned_or_being_bought_(loan)  400000     0   104000      1   \n",
       "\n",
       "   ncouples  ...  incss  incwelfr  incother  poverty  \\\n",
       "0         0  ...  99999     99999     99999      116   \n",
       "1         0  ...      0         0         0      501   \n",
       "2         0  ...  99999     99999     99999        1   \n",
       "3         1  ...  99999     99999     99999      155   \n",
       "4         1  ...  99999     99999     99999      501   \n",
       "\n",
       "                   migrat5g    migplac5  movedin     vetstat  \\\n",
       "0                Same_house  California        0         Yes   \n",
       "1  Moved_place_not_reported    Michigan        2  No_Service   \n",
       "2  Moved_place_not_reported  California        0         Yes   \n",
       "3                         ?  California        0         Yes   \n",
       "4                Same_house  California        0         Yes   \n",
       "\n",
       "            tranwork  workedyrc  \n",
       "0         Motorcycle        Yes  \n",
       "1  Auto_truck_or_van        Yes  \n",
       "2         Motorcycle        Yes  \n",
       "3         Motorcycle        Yes  \n",
       "4         Motorcycle        Yes  \n",
       "\n",
       "[5 rows x 62 columns]"
      ]
     },
     "execution_count": 122,
     "metadata": {},
     "output_type": "execute_result"
    }
   ],
   "source": [
    "df1.head()"
   ]
  },
  {
   "cell_type": "code",
   "execution_count": 123,
   "metadata": {},
   "outputs": [],
   "source": [
    "df1=df1.drop(['gq','gqtypeg','workedyr'],axis=1)"
   ]
  },
  {
   "cell_type": "code",
   "execution_count": 124,
   "metadata": {},
   "outputs": [
    {
     "data": {
      "text/html": [
       "<div>\n",
       "<style scoped>\n",
       "    .dataframe tbody tr th:only-of-type {\n",
       "        vertical-align: middle;\n",
       "    }\n",
       "\n",
       "    .dataframe tbody tr th {\n",
       "        vertical-align: top;\n",
       "    }\n",
       "\n",
       "    .dataframe thead th {\n",
       "        text-align: right;\n",
       "    }\n",
       "</style>\n",
       "<table border=\"1\" class=\"dataframe\">\n",
       "  <thead>\n",
       "    <tr style=\"text-align: right;\">\n",
       "      <th></th>\n",
       "      <th>year</th>\n",
       "      <th>farm</th>\n",
       "      <th>ownershg</th>\n",
       "      <th>value</th>\n",
       "      <th>rent</th>\n",
       "      <th>ftotinc</th>\n",
       "      <th>nfams</th>\n",
       "      <th>ncouples</th>\n",
       "      <th>nmothers</th>\n",
       "      <th>nfathers</th>\n",
       "      <th>...</th>\n",
       "      <th>incss</th>\n",
       "      <th>incwelfr</th>\n",
       "      <th>incother</th>\n",
       "      <th>poverty</th>\n",
       "      <th>migrat5g</th>\n",
       "      <th>migplac5</th>\n",
       "      <th>movedin</th>\n",
       "      <th>vetstat</th>\n",
       "      <th>tranwork</th>\n",
       "      <th>workedyrc</th>\n",
       "    </tr>\n",
       "  </thead>\n",
       "  <tbody>\n",
       "    <tr>\n",
       "      <th>0</th>\n",
       "      <td>99</td>\n",
       "      <td>Non-Farm</td>\n",
       "      <td>Rented</td>\n",
       "      <td>999999</td>\n",
       "      <td>412</td>\n",
       "      <td>23000</td>\n",
       "      <td>2</td>\n",
       "      <td>0</td>\n",
       "      <td>1</td>\n",
       "      <td>1</td>\n",
       "      <td>...</td>\n",
       "      <td>99999</td>\n",
       "      <td>99999</td>\n",
       "      <td>99999</td>\n",
       "      <td>116</td>\n",
       "      <td>Same_house</td>\n",
       "      <td>California</td>\n",
       "      <td>0</td>\n",
       "      <td>Yes</td>\n",
       "      <td>Motorcycle</td>\n",
       "      <td>Yes</td>\n",
       "    </tr>\n",
       "    <tr>\n",
       "      <th>1</th>\n",
       "      <td>99</td>\n",
       "      <td>Non-Farm</td>\n",
       "      <td>Owned_or_being_bought_(loan)</td>\n",
       "      <td>162500</td>\n",
       "      <td>0</td>\n",
       "      <td>38008</td>\n",
       "      <td>2</td>\n",
       "      <td>0</td>\n",
       "      <td>0</td>\n",
       "      <td>0</td>\n",
       "      <td>...</td>\n",
       "      <td>0</td>\n",
       "      <td>0</td>\n",
       "      <td>0</td>\n",
       "      <td>501</td>\n",
       "      <td>Moved_place_not_reported</td>\n",
       "      <td>Michigan</td>\n",
       "      <td>2</td>\n",
       "      <td>No_Service</td>\n",
       "      <td>Auto_truck_or_van</td>\n",
       "      <td>Yes</td>\n",
       "    </tr>\n",
       "    <tr>\n",
       "      <th>2</th>\n",
       "      <td>99</td>\n",
       "      <td>Non-Farm</td>\n",
       "      <td>Rented</td>\n",
       "      <td>999999</td>\n",
       "      <td>675</td>\n",
       "      <td>0</td>\n",
       "      <td>1</td>\n",
       "      <td>0</td>\n",
       "      <td>1</td>\n",
       "      <td>0</td>\n",
       "      <td>...</td>\n",
       "      <td>99999</td>\n",
       "      <td>99999</td>\n",
       "      <td>99999</td>\n",
       "      <td>1</td>\n",
       "      <td>Moved_place_not_reported</td>\n",
       "      <td>California</td>\n",
       "      <td>0</td>\n",
       "      <td>Yes</td>\n",
       "      <td>Motorcycle</td>\n",
       "      <td>Yes</td>\n",
       "    </tr>\n",
       "    <tr>\n",
       "      <th>3</th>\n",
       "      <td>99</td>\n",
       "      <td>Non-Farm</td>\n",
       "      <td>Rented</td>\n",
       "      <td>999999</td>\n",
       "      <td>725</td>\n",
       "      <td>23008</td>\n",
       "      <td>2</td>\n",
       "      <td>1</td>\n",
       "      <td>1</td>\n",
       "      <td>1</td>\n",
       "      <td>...</td>\n",
       "      <td>99999</td>\n",
       "      <td>99999</td>\n",
       "      <td>99999</td>\n",
       "      <td>155</td>\n",
       "      <td>?</td>\n",
       "      <td>California</td>\n",
       "      <td>0</td>\n",
       "      <td>Yes</td>\n",
       "      <td>Motorcycle</td>\n",
       "      <td>Yes</td>\n",
       "    </tr>\n",
       "    <tr>\n",
       "      <th>4</th>\n",
       "      <td>99</td>\n",
       "      <td>Non-Farm</td>\n",
       "      <td>Owned_or_being_bought_(loan)</td>\n",
       "      <td>400000</td>\n",
       "      <td>0</td>\n",
       "      <td>104000</td>\n",
       "      <td>1</td>\n",
       "      <td>1</td>\n",
       "      <td>1</td>\n",
       "      <td>1</td>\n",
       "      <td>...</td>\n",
       "      <td>99999</td>\n",
       "      <td>99999</td>\n",
       "      <td>99999</td>\n",
       "      <td>501</td>\n",
       "      <td>Same_house</td>\n",
       "      <td>California</td>\n",
       "      <td>0</td>\n",
       "      <td>Yes</td>\n",
       "      <td>Motorcycle</td>\n",
       "      <td>Yes</td>\n",
       "    </tr>\n",
       "  </tbody>\n",
       "</table>\n",
       "<p>5 rows × 59 columns</p>\n",
       "</div>"
      ],
      "text/plain": [
       "   year      farm                      ownershg   value  rent  ftotinc  nfams  \\\n",
       "0    99  Non-Farm                        Rented  999999   412    23000      2   \n",
       "1    99  Non-Farm  Owned_or_being_bought_(loan)  162500     0    38008      2   \n",
       "2    99  Non-Farm                        Rented  999999   675        0      1   \n",
       "3    99  Non-Farm                        Rented  999999   725    23008      2   \n",
       "4    99  Non-Farm  Owned_or_being_bought_(loan)  400000     0   104000      1   \n",
       "\n",
       "   ncouples  nmothers  nfathers  ...  incss  incwelfr  incother  poverty  \\\n",
       "0         0         1         1  ...  99999     99999     99999      116   \n",
       "1         0         0         0  ...      0         0         0      501   \n",
       "2         0         1         0  ...  99999     99999     99999        1   \n",
       "3         1         1         1  ...  99999     99999     99999      155   \n",
       "4         1         1         1  ...  99999     99999     99999      501   \n",
       "\n",
       "                   migrat5g    migplac5  movedin     vetstat  \\\n",
       "0                Same_house  California        0         Yes   \n",
       "1  Moved_place_not_reported    Michigan        2  No_Service   \n",
       "2  Moved_place_not_reported  California        0         Yes   \n",
       "3                         ?  California        0         Yes   \n",
       "4                Same_house  California        0         Yes   \n",
       "\n",
       "            tranwork  workedyrc  \n",
       "0         Motorcycle        Yes  \n",
       "1  Auto_truck_or_van        Yes  \n",
       "2         Motorcycle        Yes  \n",
       "3         Motorcycle        Yes  \n",
       "4         Motorcycle        Yes  \n",
       "\n",
       "[5 rows x 59 columns]"
      ]
     },
     "execution_count": 124,
     "metadata": {},
     "output_type": "execute_result"
    }
   ],
   "source": [
    "df1.head()"
   ]
  },
  {
   "cell_type": "markdown",
   "metadata": {},
   "source": [
    "# CONVERTING THE TWO CATEGORIES AS \"0\" AND \"1"
   ]
  },
  {
   "cell_type": "markdown",
   "metadata": {},
   "source": [
    "# FOR EXAMPLE:- FEMALE AS \"1\" AND MALE AS \"0\""
   ]
  },
  {
   "cell_type": "code",
   "execution_count": 125,
   "metadata": {},
   "outputs": [
    {
     "data": {
      "text/plain": [
       "0    4436\n",
       "1    4408\n",
       "Name: sex, dtype: int64"
      ]
     },
     "execution_count": 125,
     "metadata": {},
     "output_type": "execute_result"
    }
   ],
   "source": [
    "df1['sex']=[1 if x=='Female' else 0 for x in df1['sex']]\n",
    "df1['sex'].value_counts()"
   ]
  },
  {
   "cell_type": "code",
   "execution_count": 126,
   "metadata": {},
   "outputs": [
    {
     "data": {
      "text/plain": [
       "0    6292\n",
       "1    2552\n",
       "Name: school, dtype: int64"
      ]
     },
     "execution_count": 126,
     "metadata": {},
     "output_type": "execute_result"
    }
   ],
   "source": [
    "df1['school']=[1 if x=='Yes_in_school' else 0 for x in df1['school']]\n",
    "df1['school'].value_counts()"
   ]
  },
  {
   "cell_type": "code",
   "execution_count": 127,
   "metadata": {},
   "outputs": [
    {
     "data": {
      "text/plain": [
       "0    8842\n",
       "1       2\n",
       "Name: farm, dtype: int64"
      ]
     },
     "execution_count": 127,
     "metadata": {},
     "output_type": "execute_result"
    }
   ],
   "source": [
    "df1['farm']=[1 if x=='Farm' else 0 for x in df1['farm']]\n",
    "df1['farm'].value_counts()"
   ]
  },
  {
   "cell_type": "code",
   "execution_count": 128,
   "metadata": {},
   "outputs": [
    {
     "data": {
      "text/plain": [
       "1    4433\n",
       "0    4411\n",
       "Name: ownershg, dtype: int64"
      ]
     },
     "execution_count": 128,
     "metadata": {},
     "output_type": "execute_result"
    }
   ],
   "source": [
    "df1['ownershg']=[1 if x=='Rented' else 0 for x in df1['ownershg']]\n",
    "df1['ownershg'].value_counts()"
   ]
  },
  {
   "cell_type": "code",
   "execution_count": 129,
   "metadata": {},
   "outputs": [
    {
     "data": {
      "text/html": [
       "<div>\n",
       "<style scoped>\n",
       "    .dataframe tbody tr th:only-of-type {\n",
       "        vertical-align: middle;\n",
       "    }\n",
       "\n",
       "    .dataframe tbody tr th {\n",
       "        vertical-align: top;\n",
       "    }\n",
       "\n",
       "    .dataframe thead th {\n",
       "        text-align: right;\n",
       "    }\n",
       "</style>\n",
       "<table border=\"1\" class=\"dataframe\">\n",
       "  <thead>\n",
       "    <tr style=\"text-align: right;\">\n",
       "      <th></th>\n",
       "      <th>year</th>\n",
       "      <th>farm</th>\n",
       "      <th>ownershg</th>\n",
       "      <th>value</th>\n",
       "      <th>rent</th>\n",
       "      <th>ftotinc</th>\n",
       "      <th>nfams</th>\n",
       "      <th>ncouples</th>\n",
       "      <th>nmothers</th>\n",
       "      <th>nfathers</th>\n",
       "      <th>...</th>\n",
       "      <th>sei</th>\n",
       "      <th>inctot</th>\n",
       "      <th>incwage</th>\n",
       "      <th>incbus</th>\n",
       "      <th>incfarm</th>\n",
       "      <th>incss</th>\n",
       "      <th>incwelfr</th>\n",
       "      <th>incother</th>\n",
       "      <th>poverty</th>\n",
       "      <th>movedin</th>\n",
       "    </tr>\n",
       "  </thead>\n",
       "  <tbody>\n",
       "    <tr>\n",
       "      <th>count</th>\n",
       "      <td>8844.0</td>\n",
       "      <td>8844.000000</td>\n",
       "      <td>8844.000000</td>\n",
       "      <td>8844.000000</td>\n",
       "      <td>8844.000000</td>\n",
       "      <td>8844.000000</td>\n",
       "      <td>8844.000000</td>\n",
       "      <td>8844.000000</td>\n",
       "      <td>8844.000000</td>\n",
       "      <td>8844.000000</td>\n",
       "      <td>...</td>\n",
       "      <td>8844.000000</td>\n",
       "      <td>8844.000000</td>\n",
       "      <td>8844.000000</td>\n",
       "      <td>8844.000000</td>\n",
       "      <td>8844.000000</td>\n",
       "      <td>8844.000000</td>\n",
       "      <td>8844.000000</td>\n",
       "      <td>8844.000000</td>\n",
       "      <td>8844.000000</td>\n",
       "      <td>8844.000000</td>\n",
       "    </tr>\n",
       "    <tr>\n",
       "      <th>mean</th>\n",
       "      <td>99.0</td>\n",
       "      <td>0.000226</td>\n",
       "      <td>0.501244</td>\n",
       "      <td>632582.020466</td>\n",
       "      <td>304.006445</td>\n",
       "      <td>63377.536070</td>\n",
       "      <td>1.262664</td>\n",
       "      <td>0.688716</td>\n",
       "      <td>0.756445</td>\n",
       "      <td>0.592153</td>\n",
       "      <td>...</td>\n",
       "      <td>24.913161</td>\n",
       "      <td>15284.650271</td>\n",
       "      <td>250287.967322</td>\n",
       "      <td>239798.193464</td>\n",
       "      <td>238584.092040</td>\n",
       "      <td>22991.197422</td>\n",
       "      <td>22626.159430</td>\n",
       "      <td>22532.510629</td>\n",
       "      <td>290.317616</td>\n",
       "      <td>1.283695</td>\n",
       "    </tr>\n",
       "    <tr>\n",
       "      <th>std</th>\n",
       "      <td>0.0</td>\n",
       "      <td>0.015037</td>\n",
       "      <td>0.500027</td>\n",
       "      <td>390008.605592</td>\n",
       "      <td>341.752657</td>\n",
       "      <td>136955.617707</td>\n",
       "      <td>0.705612</td>\n",
       "      <td>0.547220</td>\n",
       "      <td>0.640114</td>\n",
       "      <td>0.565299</td>\n",
       "      <td>...</td>\n",
       "      <td>27.900842</td>\n",
       "      <td>25377.842512</td>\n",
       "      <td>420205.510586</td>\n",
       "      <td>425644.638684</td>\n",
       "      <td>426236.530581</td>\n",
       "      <td>41452.281213</td>\n",
       "      <td>41617.810128</td>\n",
       "      <td>41662.227395</td>\n",
       "      <td>170.289175</td>\n",
       "      <td>2.276122</td>\n",
       "    </tr>\n",
       "    <tr>\n",
       "      <th>min</th>\n",
       "      <td>99.0</td>\n",
       "      <td>0.000000</td>\n",
       "      <td>0.000000</td>\n",
       "      <td>5000.000000</td>\n",
       "      <td>0.000000</td>\n",
       "      <td>0.000000</td>\n",
       "      <td>1.000000</td>\n",
       "      <td>0.000000</td>\n",
       "      <td>0.000000</td>\n",
       "      <td>0.000000</td>\n",
       "      <td>...</td>\n",
       "      <td>0.000000</td>\n",
       "      <td>-9279.000000</td>\n",
       "      <td>0.000000</td>\n",
       "      <td>-9999.000000</td>\n",
       "      <td>-750.000000</td>\n",
       "      <td>0.000000</td>\n",
       "      <td>0.000000</td>\n",
       "      <td>0.000000</td>\n",
       "      <td>0.000000</td>\n",
       "      <td>0.000000</td>\n",
       "    </tr>\n",
       "    <tr>\n",
       "      <th>25%</th>\n",
       "      <td>99.0</td>\n",
       "      <td>0.000000</td>\n",
       "      <td>0.000000</td>\n",
       "      <td>225000.000000</td>\n",
       "      <td>0.000000</td>\n",
       "      <td>18906.000000</td>\n",
       "      <td>1.000000</td>\n",
       "      <td>0.000000</td>\n",
       "      <td>0.000000</td>\n",
       "      <td>0.000000</td>\n",
       "      <td>...</td>\n",
       "      <td>0.000000</td>\n",
       "      <td>0.000000</td>\n",
       "      <td>0.000000</td>\n",
       "      <td>0.000000</td>\n",
       "      <td>0.000000</td>\n",
       "      <td>0.000000</td>\n",
       "      <td>0.000000</td>\n",
       "      <td>0.000000</td>\n",
       "      <td>140.000000</td>\n",
       "      <td>0.000000</td>\n",
       "    </tr>\n",
       "    <tr>\n",
       "      <th>50%</th>\n",
       "      <td>99.0</td>\n",
       "      <td>0.000000</td>\n",
       "      <td>1.000000</td>\n",
       "      <td>999999.000000</td>\n",
       "      <td>1.000000</td>\n",
       "      <td>36000.000000</td>\n",
       "      <td>1.000000</td>\n",
       "      <td>1.000000</td>\n",
       "      <td>1.000000</td>\n",
       "      <td>1.000000</td>\n",
       "      <td>...</td>\n",
       "      <td>15.000000</td>\n",
       "      <td>6800.000000</td>\n",
       "      <td>15898.000000</td>\n",
       "      <td>0.000000</td>\n",
       "      <td>0.000000</td>\n",
       "      <td>0.000000</td>\n",
       "      <td>0.000000</td>\n",
       "      <td>0.000000</td>\n",
       "      <td>283.000000</td>\n",
       "      <td>0.000000</td>\n",
       "    </tr>\n",
       "    <tr>\n",
       "      <th>75%</th>\n",
       "      <td>99.0</td>\n",
       "      <td>0.000000</td>\n",
       "      <td>1.000000</td>\n",
       "      <td>999999.000000</td>\n",
       "      <td>575.000000</td>\n",
       "      <td>60000.000000</td>\n",
       "      <td>1.000000</td>\n",
       "      <td>1.000000</td>\n",
       "      <td>1.000000</td>\n",
       "      <td>1.000000</td>\n",
       "      <td>...</td>\n",
       "      <td>47.000000</td>\n",
       "      <td>21000.000000</td>\n",
       "      <td>95000.000000</td>\n",
       "      <td>35850.000000</td>\n",
       "      <td>0.000000</td>\n",
       "      <td>7560.000000</td>\n",
       "      <td>3084.000000</td>\n",
       "      <td>304.750000</td>\n",
       "      <td>501.000000</td>\n",
       "      <td>2.000000</td>\n",
       "    </tr>\n",
       "    <tr>\n",
       "      <th>max</th>\n",
       "      <td>99.0</td>\n",
       "      <td>1.000000</td>\n",
       "      <td>1.000000</td>\n",
       "      <td>999999.000000</td>\n",
       "      <td>1000.000000</td>\n",
       "      <td>999999.000000</td>\n",
       "      <td>9.000000</td>\n",
       "      <td>4.000000</td>\n",
       "      <td>4.000000</td>\n",
       "      <td>4.000000</td>\n",
       "      <td>...</td>\n",
       "      <td>96.000000</td>\n",
       "      <td>313119.000000</td>\n",
       "      <td>999999.000000</td>\n",
       "      <td>999999.000000</td>\n",
       "      <td>999999.000000</td>\n",
       "      <td>99999.000000</td>\n",
       "      <td>99999.000000</td>\n",
       "      <td>99999.000000</td>\n",
       "      <td>501.000000</td>\n",
       "      <td>8.000000</td>\n",
       "    </tr>\n",
       "  </tbody>\n",
       "</table>\n",
       "<p>8 rows × 39 columns</p>\n",
       "</div>"
      ],
      "text/plain": [
       "         year         farm     ownershg          value         rent  \\\n",
       "count  8844.0  8844.000000  8844.000000    8844.000000  8844.000000   \n",
       "mean     99.0     0.000226     0.501244  632582.020466   304.006445   \n",
       "std       0.0     0.015037     0.500027  390008.605592   341.752657   \n",
       "min      99.0     0.000000     0.000000    5000.000000     0.000000   \n",
       "25%      99.0     0.000000     0.000000  225000.000000     0.000000   \n",
       "50%      99.0     0.000000     1.000000  999999.000000     1.000000   \n",
       "75%      99.0     0.000000     1.000000  999999.000000   575.000000   \n",
       "max      99.0     1.000000     1.000000  999999.000000  1000.000000   \n",
       "\n",
       "             ftotinc        nfams     ncouples     nmothers     nfathers  ...  \\\n",
       "count    8844.000000  8844.000000  8844.000000  8844.000000  8844.000000  ...   \n",
       "mean    63377.536070     1.262664     0.688716     0.756445     0.592153  ...   \n",
       "std    136955.617707     0.705612     0.547220     0.640114     0.565299  ...   \n",
       "min         0.000000     1.000000     0.000000     0.000000     0.000000  ...   \n",
       "25%     18906.000000     1.000000     0.000000     0.000000     0.000000  ...   \n",
       "50%     36000.000000     1.000000     1.000000     1.000000     1.000000  ...   \n",
       "75%     60000.000000     1.000000     1.000000     1.000000     1.000000  ...   \n",
       "max    999999.000000     9.000000     4.000000     4.000000     4.000000  ...   \n",
       "\n",
       "               sei         inctot        incwage         incbus  \\\n",
       "count  8844.000000    8844.000000    8844.000000    8844.000000   \n",
       "mean     24.913161   15284.650271  250287.967322  239798.193464   \n",
       "std      27.900842   25377.842512  420205.510586  425644.638684   \n",
       "min       0.000000   -9279.000000       0.000000   -9999.000000   \n",
       "25%       0.000000       0.000000       0.000000       0.000000   \n",
       "50%      15.000000    6800.000000   15898.000000       0.000000   \n",
       "75%      47.000000   21000.000000   95000.000000   35850.000000   \n",
       "max      96.000000  313119.000000  999999.000000  999999.000000   \n",
       "\n",
       "             incfarm         incss      incwelfr      incother      poverty  \\\n",
       "count    8844.000000   8844.000000   8844.000000   8844.000000  8844.000000   \n",
       "mean   238584.092040  22991.197422  22626.159430  22532.510629   290.317616   \n",
       "std    426236.530581  41452.281213  41617.810128  41662.227395   170.289175   \n",
       "min      -750.000000      0.000000      0.000000      0.000000     0.000000   \n",
       "25%         0.000000      0.000000      0.000000      0.000000   140.000000   \n",
       "50%         0.000000      0.000000      0.000000      0.000000   283.000000   \n",
       "75%         0.000000   7560.000000   3084.000000    304.750000   501.000000   \n",
       "max    999999.000000  99999.000000  99999.000000  99999.000000   501.000000   \n",
       "\n",
       "           movedin  \n",
       "count  8844.000000  \n",
       "mean      1.283695  \n",
       "std       2.276122  \n",
       "min       0.000000  \n",
       "25%       0.000000  \n",
       "50%       0.000000  \n",
       "75%       2.000000  \n",
       "max       8.000000  \n",
       "\n",
       "[8 rows x 39 columns]"
      ]
     },
     "execution_count": 129,
     "metadata": {},
     "output_type": "execute_result"
    }
   ],
   "source": [
    "df1.describe()"
   ]
  },
  {
   "cell_type": "code",
   "execution_count": 130,
   "metadata": {},
   "outputs": [],
   "source": [
    "#PASSING ALL THE NUMERICAL COLUMNS INTO A LIST\n",
    "List=['year','farm','ownershg','value','rent','ftotinc','nfams','ncouples','nmothers','nfathers','momloc','stepmom','momrule','poploc',\n",
    "    'steppop','poprule','sploc','sprule','famsize','nchild','nchlt5','famunit','eldch','yngch','nsibs','age','sex','school','occscore'\n",
    "    'sei','incwage','inctot','incfarm','incbus','incss','incwelfr','incother','poverty']"
   ]
  },
  {
   "cell_type": "code",
   "execution_count": 131,
   "metadata": {},
   "outputs": [
    {
     "name": "stderr",
     "output_type": "stream",
     "text": [
      "C:\\Users\\Abhishek Baranwal\\Anaconda3\\lib\\site-packages\\pandas\\core\\indexing.py:1494: FutureWarning: \n",
      "Passing list-likes to .loc or [] with any missing label will raise\n",
      "KeyError in the future, you can use .reindex() as an alternative.\n",
      "\n",
      "See the documentation here:\n",
      "https://pandas.pydata.org/pandas-docs/stable/indexing.html#deprecate-loc-reindex-listlike\n",
      "  return self._getitem_tuple(key)\n"
     ]
    }
   ],
   "source": [
    "#GIVING ALL THE NUMERICAL COLUMNS\n",
    "df2=df1.loc[:, List]"
   ]
  },
  {
   "cell_type": "code",
   "execution_count": 132,
   "metadata": {},
   "outputs": [
    {
     "data": {
      "text/html": [
       "<div>\n",
       "<style scoped>\n",
       "    .dataframe tbody tr th:only-of-type {\n",
       "        vertical-align: middle;\n",
       "    }\n",
       "\n",
       "    .dataframe tbody tr th {\n",
       "        vertical-align: top;\n",
       "    }\n",
       "\n",
       "    .dataframe thead th {\n",
       "        text-align: right;\n",
       "    }\n",
       "</style>\n",
       "<table border=\"1\" class=\"dataframe\">\n",
       "  <thead>\n",
       "    <tr style=\"text-align: right;\">\n",
       "      <th></th>\n",
       "      <th>year</th>\n",
       "      <th>farm</th>\n",
       "      <th>ownershg</th>\n",
       "      <th>value</th>\n",
       "      <th>rent</th>\n",
       "      <th>ftotinc</th>\n",
       "      <th>nfams</th>\n",
       "      <th>ncouples</th>\n",
       "      <th>nmothers</th>\n",
       "      <th>nfathers</th>\n",
       "      <th>...</th>\n",
       "      <th>school</th>\n",
       "      <th>occscoresei</th>\n",
       "      <th>incwage</th>\n",
       "      <th>inctot</th>\n",
       "      <th>incfarm</th>\n",
       "      <th>incbus</th>\n",
       "      <th>incss</th>\n",
       "      <th>incwelfr</th>\n",
       "      <th>incother</th>\n",
       "      <th>poverty</th>\n",
       "    </tr>\n",
       "  </thead>\n",
       "  <tbody>\n",
       "    <tr>\n",
       "      <th>0</th>\n",
       "      <td>99</td>\n",
       "      <td>0</td>\n",
       "      <td>1</td>\n",
       "      <td>999999</td>\n",
       "      <td>412</td>\n",
       "      <td>23000</td>\n",
       "      <td>2</td>\n",
       "      <td>0</td>\n",
       "      <td>1</td>\n",
       "      <td>1</td>\n",
       "      <td>...</td>\n",
       "      <td>1</td>\n",
       "      <td>NaN</td>\n",
       "      <td>999999</td>\n",
       "      <td>0</td>\n",
       "      <td>999999</td>\n",
       "      <td>999999</td>\n",
       "      <td>99999</td>\n",
       "      <td>99999</td>\n",
       "      <td>99999</td>\n",
       "      <td>116</td>\n",
       "    </tr>\n",
       "    <tr>\n",
       "      <th>1</th>\n",
       "      <td>99</td>\n",
       "      <td>0</td>\n",
       "      <td>0</td>\n",
       "      <td>162500</td>\n",
       "      <td>0</td>\n",
       "      <td>38008</td>\n",
       "      <td>2</td>\n",
       "      <td>0</td>\n",
       "      <td>0</td>\n",
       "      <td>0</td>\n",
       "      <td>...</td>\n",
       "      <td>0</td>\n",
       "      <td>NaN</td>\n",
       "      <td>38000</td>\n",
       "      <td>38008</td>\n",
       "      <td>0</td>\n",
       "      <td>0</td>\n",
       "      <td>0</td>\n",
       "      <td>0</td>\n",
       "      <td>0</td>\n",
       "      <td>501</td>\n",
       "    </tr>\n",
       "    <tr>\n",
       "      <th>2</th>\n",
       "      <td>99</td>\n",
       "      <td>0</td>\n",
       "      <td>1</td>\n",
       "      <td>999999</td>\n",
       "      <td>675</td>\n",
       "      <td>0</td>\n",
       "      <td>1</td>\n",
       "      <td>0</td>\n",
       "      <td>1</td>\n",
       "      <td>0</td>\n",
       "      <td>...</td>\n",
       "      <td>1</td>\n",
       "      <td>NaN</td>\n",
       "      <td>999999</td>\n",
       "      <td>0</td>\n",
       "      <td>999999</td>\n",
       "      <td>999999</td>\n",
       "      <td>99999</td>\n",
       "      <td>99999</td>\n",
       "      <td>99999</td>\n",
       "      <td>1</td>\n",
       "    </tr>\n",
       "    <tr>\n",
       "      <th>3</th>\n",
       "      <td>99</td>\n",
       "      <td>0</td>\n",
       "      <td>1</td>\n",
       "      <td>999999</td>\n",
       "      <td>725</td>\n",
       "      <td>23008</td>\n",
       "      <td>2</td>\n",
       "      <td>1</td>\n",
       "      <td>1</td>\n",
       "      <td>1</td>\n",
       "      <td>...</td>\n",
       "      <td>0</td>\n",
       "      <td>NaN</td>\n",
       "      <td>999999</td>\n",
       "      <td>0</td>\n",
       "      <td>999999</td>\n",
       "      <td>999999</td>\n",
       "      <td>99999</td>\n",
       "      <td>99999</td>\n",
       "      <td>99999</td>\n",
       "      <td>155</td>\n",
       "    </tr>\n",
       "    <tr>\n",
       "      <th>4</th>\n",
       "      <td>99</td>\n",
       "      <td>0</td>\n",
       "      <td>0</td>\n",
       "      <td>400000</td>\n",
       "      <td>0</td>\n",
       "      <td>104000</td>\n",
       "      <td>1</td>\n",
       "      <td>1</td>\n",
       "      <td>1</td>\n",
       "      <td>1</td>\n",
       "      <td>...</td>\n",
       "      <td>1</td>\n",
       "      <td>NaN</td>\n",
       "      <td>999999</td>\n",
       "      <td>0</td>\n",
       "      <td>999999</td>\n",
       "      <td>999999</td>\n",
       "      <td>99999</td>\n",
       "      <td>99999</td>\n",
       "      <td>99999</td>\n",
       "      <td>501</td>\n",
       "    </tr>\n",
       "  </tbody>\n",
       "</table>\n",
       "<p>5 rows × 37 columns</p>\n",
       "</div>"
      ],
      "text/plain": [
       "   year  farm  ownershg   value  rent  ftotinc  nfams  ncouples  nmothers  \\\n",
       "0    99     0         1  999999   412    23000      2         0         1   \n",
       "1    99     0         0  162500     0    38008      2         0         0   \n",
       "2    99     0         1  999999   675        0      1         0         1   \n",
       "3    99     0         1  999999   725    23008      2         1         1   \n",
       "4    99     0         0  400000     0   104000      1         1         1   \n",
       "\n",
       "   nfathers  ...  school  occscoresei  incwage  inctot  incfarm  incbus  \\\n",
       "0         1  ...       1          NaN   999999       0   999999  999999   \n",
       "1         0  ...       0          NaN    38000   38008        0       0   \n",
       "2         0  ...       1          NaN   999999       0   999999  999999   \n",
       "3         1  ...       0          NaN   999999       0   999999  999999   \n",
       "4         1  ...       1          NaN   999999       0   999999  999999   \n",
       "\n",
       "   incss  incwelfr  incother  poverty  \n",
       "0  99999     99999     99999      116  \n",
       "1      0         0         0      501  \n",
       "2  99999     99999     99999        1  \n",
       "3  99999     99999     99999      155  \n",
       "4  99999     99999     99999      501  \n",
       "\n",
       "[5 rows x 37 columns]"
      ]
     },
     "execution_count": 132,
     "metadata": {},
     "output_type": "execute_result"
    }
   ],
   "source": [
    "df2.head()"
   ]
  },
  {
   "cell_type": "markdown",
   "metadata": {},
   "source": [
    "# NORMALIZE THE NUMERICAL COLUMNS"
   ]
  },
  {
   "cell_type": "code",
   "execution_count": 133,
   "metadata": {},
   "outputs": [
    {
     "name": "stderr",
     "output_type": "stream",
     "text": [
      "C:\\Users\\Abhishek Baranwal\\Anaconda3\\lib\\site-packages\\sklearn\\preprocessing\\data.py:334: DataConversionWarning: Data with input dtype int64, float64 were all converted to float64 by MinMaxScaler.\n",
      "  return self.partial_fit(X, y)\n",
      "C:\\Users\\Abhishek Baranwal\\Anaconda3\\lib\\site-packages\\sklearn\\preprocessing\\data.py:364: RuntimeWarning: All-NaN slice encountered\n",
      "  data_min = np.nanmin(X, axis=0)\n",
      "C:\\Users\\Abhishek Baranwal\\Anaconda3\\lib\\site-packages\\sklearn\\preprocessing\\data.py:365: RuntimeWarning: All-NaN slice encountered\n",
      "  data_max = np.nanmax(X, axis=0)\n"
     ]
    }
   ],
   "source": [
    "# WE NORMALIZE THE VALUES OF ALL NUMERICAL COLUMNSINTO 0-1\n",
    "import sklearn\n",
    "from sklearn import preprocessing\n",
    "min_max_scaler = preprocessing.MinMaxScaler()\n",
    "x_scaled = min_max_scaler.fit_transform(df2)"
   ]
  },
  {
   "cell_type": "code",
   "execution_count": 134,
   "metadata": {},
   "outputs": [],
   "source": [
    "#CONVERTING INTO DATAFRAME\n",
    "df1_normalized = pd.DataFrame(x_scaled,columns=['year', 'farm', 'ownershg', 'value', 'rent', 'ftotinc', 'nfams',\n",
    "       'ncouples', 'nmothers', 'nfathers', 'momloc', 'stepmom', 'momrule',\n",
    "       'poploc', 'steppop', 'poprule', 'sploc', 'sprule', 'famsize', 'nchild',\n",
    "       'nchlt5', 'famunit', 'eldch', 'yngch', 'nsibs', 'age', 'sex', 'school',\n",
    "       'occscoresei', 'incwage', 'inctot', 'incfarm', 'incbus', 'incss',\n",
    "       'incwelfr', 'incother', 'poverty'])"
   ]
  },
  {
   "cell_type": "code",
   "execution_count": 135,
   "metadata": {},
   "outputs": [
    {
     "data": {
      "text/html": [
       "<div>\n",
       "<style scoped>\n",
       "    .dataframe tbody tr th:only-of-type {\n",
       "        vertical-align: middle;\n",
       "    }\n",
       "\n",
       "    .dataframe tbody tr th {\n",
       "        vertical-align: top;\n",
       "    }\n",
       "\n",
       "    .dataframe thead th {\n",
       "        text-align: right;\n",
       "    }\n",
       "</style>\n",
       "<table border=\"1\" class=\"dataframe\">\n",
       "  <thead>\n",
       "    <tr style=\"text-align: right;\">\n",
       "      <th></th>\n",
       "      <th>year</th>\n",
       "      <th>farm</th>\n",
       "      <th>ownershg</th>\n",
       "      <th>value</th>\n",
       "      <th>rent</th>\n",
       "      <th>ftotinc</th>\n",
       "      <th>nfams</th>\n",
       "      <th>ncouples</th>\n",
       "      <th>nmothers</th>\n",
       "      <th>nfathers</th>\n",
       "      <th>...</th>\n",
       "      <th>school</th>\n",
       "      <th>occscoresei</th>\n",
       "      <th>incwage</th>\n",
       "      <th>inctot</th>\n",
       "      <th>incfarm</th>\n",
       "      <th>incbus</th>\n",
       "      <th>incss</th>\n",
       "      <th>incwelfr</th>\n",
       "      <th>incother</th>\n",
       "      <th>poverty</th>\n",
       "    </tr>\n",
       "  </thead>\n",
       "  <tbody>\n",
       "    <tr>\n",
       "      <th>0</th>\n",
       "      <td>0.0</td>\n",
       "      <td>0.0</td>\n",
       "      <td>1.0</td>\n",
       "      <td>1.000000</td>\n",
       "      <td>0.412</td>\n",
       "      <td>0.023000</td>\n",
       "      <td>0.125</td>\n",
       "      <td>0.00</td>\n",
       "      <td>0.25</td>\n",
       "      <td>0.25</td>\n",
       "      <td>...</td>\n",
       "      <td>1.0</td>\n",
       "      <td>NaN</td>\n",
       "      <td>1.000</td>\n",
       "      <td>0.028781</td>\n",
       "      <td>1.000000</td>\n",
       "      <td>1.0000</td>\n",
       "      <td>1.0</td>\n",
       "      <td>1.0</td>\n",
       "      <td>1.0</td>\n",
       "      <td>0.231537</td>\n",
       "    </tr>\n",
       "    <tr>\n",
       "      <th>1</th>\n",
       "      <td>0.0</td>\n",
       "      <td>0.0</td>\n",
       "      <td>0.0</td>\n",
       "      <td>0.158292</td>\n",
       "      <td>0.000</td>\n",
       "      <td>0.038008</td>\n",
       "      <td>0.125</td>\n",
       "      <td>0.00</td>\n",
       "      <td>0.00</td>\n",
       "      <td>0.00</td>\n",
       "      <td>...</td>\n",
       "      <td>0.0</td>\n",
       "      <td>NaN</td>\n",
       "      <td>0.038</td>\n",
       "      <td>0.146673</td>\n",
       "      <td>0.000749</td>\n",
       "      <td>0.0099</td>\n",
       "      <td>0.0</td>\n",
       "      <td>0.0</td>\n",
       "      <td>0.0</td>\n",
       "      <td>1.000000</td>\n",
       "    </tr>\n",
       "    <tr>\n",
       "      <th>2</th>\n",
       "      <td>0.0</td>\n",
       "      <td>0.0</td>\n",
       "      <td>1.0</td>\n",
       "      <td>1.000000</td>\n",
       "      <td>0.675</td>\n",
       "      <td>0.000000</td>\n",
       "      <td>0.000</td>\n",
       "      <td>0.00</td>\n",
       "      <td>0.25</td>\n",
       "      <td>0.00</td>\n",
       "      <td>...</td>\n",
       "      <td>1.0</td>\n",
       "      <td>NaN</td>\n",
       "      <td>1.000</td>\n",
       "      <td>0.028781</td>\n",
       "      <td>1.000000</td>\n",
       "      <td>1.0000</td>\n",
       "      <td>1.0</td>\n",
       "      <td>1.0</td>\n",
       "      <td>1.0</td>\n",
       "      <td>0.001996</td>\n",
       "    </tr>\n",
       "    <tr>\n",
       "      <th>3</th>\n",
       "      <td>0.0</td>\n",
       "      <td>0.0</td>\n",
       "      <td>1.0</td>\n",
       "      <td>1.000000</td>\n",
       "      <td>0.725</td>\n",
       "      <td>0.023008</td>\n",
       "      <td>0.125</td>\n",
       "      <td>0.25</td>\n",
       "      <td>0.25</td>\n",
       "      <td>0.25</td>\n",
       "      <td>...</td>\n",
       "      <td>0.0</td>\n",
       "      <td>NaN</td>\n",
       "      <td>1.000</td>\n",
       "      <td>0.028781</td>\n",
       "      <td>1.000000</td>\n",
       "      <td>1.0000</td>\n",
       "      <td>1.0</td>\n",
       "      <td>1.0</td>\n",
       "      <td>1.0</td>\n",
       "      <td>0.309381</td>\n",
       "    </tr>\n",
       "    <tr>\n",
       "      <th>4</th>\n",
       "      <td>0.0</td>\n",
       "      <td>0.0</td>\n",
       "      <td>0.0</td>\n",
       "      <td>0.396985</td>\n",
       "      <td>0.000</td>\n",
       "      <td>0.104000</td>\n",
       "      <td>0.000</td>\n",
       "      <td>0.25</td>\n",
       "      <td>0.25</td>\n",
       "      <td>0.25</td>\n",
       "      <td>...</td>\n",
       "      <td>1.0</td>\n",
       "      <td>NaN</td>\n",
       "      <td>1.000</td>\n",
       "      <td>0.028781</td>\n",
       "      <td>1.000000</td>\n",
       "      <td>1.0000</td>\n",
       "      <td>1.0</td>\n",
       "      <td>1.0</td>\n",
       "      <td>1.0</td>\n",
       "      <td>1.000000</td>\n",
       "    </tr>\n",
       "  </tbody>\n",
       "</table>\n",
       "<p>5 rows × 37 columns</p>\n",
       "</div>"
      ],
      "text/plain": [
       "   year  farm  ownershg     value   rent   ftotinc  nfams  ncouples  nmothers  \\\n",
       "0   0.0   0.0       1.0  1.000000  0.412  0.023000  0.125      0.00      0.25   \n",
       "1   0.0   0.0       0.0  0.158292  0.000  0.038008  0.125      0.00      0.00   \n",
       "2   0.0   0.0       1.0  1.000000  0.675  0.000000  0.000      0.00      0.25   \n",
       "3   0.0   0.0       1.0  1.000000  0.725  0.023008  0.125      0.25      0.25   \n",
       "4   0.0   0.0       0.0  0.396985  0.000  0.104000  0.000      0.25      0.25   \n",
       "\n",
       "   nfathers  ...  school  occscoresei  incwage    inctot   incfarm  incbus  \\\n",
       "0      0.25  ...     1.0          NaN    1.000  0.028781  1.000000  1.0000   \n",
       "1      0.00  ...     0.0          NaN    0.038  0.146673  0.000749  0.0099   \n",
       "2      0.00  ...     1.0          NaN    1.000  0.028781  1.000000  1.0000   \n",
       "3      0.25  ...     0.0          NaN    1.000  0.028781  1.000000  1.0000   \n",
       "4      0.25  ...     1.0          NaN    1.000  0.028781  1.000000  1.0000   \n",
       "\n",
       "   incss  incwelfr  incother   poverty  \n",
       "0    1.0       1.0       1.0  0.231537  \n",
       "1    0.0       0.0       0.0  1.000000  \n",
       "2    1.0       1.0       1.0  0.001996  \n",
       "3    1.0       1.0       1.0  0.309381  \n",
       "4    1.0       1.0       1.0  1.000000  \n",
       "\n",
       "[5 rows x 37 columns]"
      ]
     },
     "execution_count": 135,
     "metadata": {},
     "output_type": "execute_result"
    }
   ],
   "source": [
    "df1_normalized.head() #normalized dataframe"
   ]
  },
  {
   "cell_type": "code",
   "execution_count": 136,
   "metadata": {},
   "outputs": [
    {
     "name": "stdout",
     "output_type": "stream",
     "text": [
      "<class 'pandas.core.frame.DataFrame'>\n",
      "RangeIndex: 8844 entries, 0 to 8843\n",
      "Data columns (total 37 columns):\n",
      "year           8844 non-null float64\n",
      "farm           8844 non-null float64\n",
      "ownershg       8844 non-null float64\n",
      "value          8844 non-null float64\n",
      "rent           8844 non-null float64\n",
      "ftotinc        8844 non-null float64\n",
      "nfams          8844 non-null float64\n",
      "ncouples       8844 non-null float64\n",
      "nmothers       8844 non-null float64\n",
      "nfathers       8844 non-null float64\n",
      "momloc         8844 non-null float64\n",
      "stepmom        8844 non-null float64\n",
      "momrule        8844 non-null float64\n",
      "poploc         8844 non-null float64\n",
      "steppop        8844 non-null float64\n",
      "poprule        8844 non-null float64\n",
      "sploc          8844 non-null float64\n",
      "sprule         8844 non-null float64\n",
      "famsize        8844 non-null float64\n",
      "nchild         8844 non-null float64\n",
      "nchlt5         8844 non-null float64\n",
      "famunit        8844 non-null float64\n",
      "eldch          8844 non-null float64\n",
      "yngch          8844 non-null float64\n",
      "nsibs          8844 non-null float64\n",
      "age            8844 non-null float64\n",
      "sex            8844 non-null float64\n",
      "school         8844 non-null float64\n",
      "occscoresei    0 non-null float64\n",
      "incwage        8844 non-null float64\n",
      "inctot         8844 non-null float64\n",
      "incfarm        8844 non-null float64\n",
      "incbus         8844 non-null float64\n",
      "incss          8844 non-null float64\n",
      "incwelfr       8844 non-null float64\n",
      "incother       8844 non-null float64\n",
      "poverty        8844 non-null float64\n",
      "dtypes: float64(37)\n",
      "memory usage: 2.5 MB\n"
     ]
    }
   ],
   "source": [
    "df1_normalized.info()"
   ]
  },
  {
   "cell_type": "code",
   "execution_count": 137,
   "metadata": {},
   "outputs": [
    {
     "data": {
      "text/plain": [
       "Series([], Name: occscoresei, dtype: int64)"
      ]
     },
     "execution_count": 137,
     "metadata": {},
     "output_type": "execute_result"
    }
   ],
   "source": [
    "# THERE IS NO VALUES IN \"occscoresei\" ONLY \"NAN\" \n",
    "df1_normalized['occscoresei'].value_counts()"
   ]
  },
  {
   "cell_type": "code",
   "execution_count": 138,
   "metadata": {},
   "outputs": [
    {
     "data": {
      "text/plain": [
       "Index(['year', 'farm', 'ownershg', 'value', 'rent', 'ftotinc', 'nfams',\n",
       "       'ncouples', 'nmothers', 'nfathers', 'momloc', 'stepmom', 'momrule',\n",
       "       'poploc', 'steppop', 'poprule', 'sploc', 'sprule', 'famsize', 'nchild',\n",
       "       'nchlt5', 'famunit', 'eldch', 'yngch', 'nsibs', 'age', 'sex', 'school',\n",
       "       'occscoresei', 'incwage', 'inctot', 'incfarm', 'incbus', 'incss',\n",
       "       'incwelfr', 'incother', 'poverty'],\n",
       "      dtype='object')"
      ]
     },
     "execution_count": 138,
     "metadata": {},
     "output_type": "execute_result"
    }
   ],
   "source": [
    "df1_normalized.columns"
   ]
  },
  {
   "cell_type": "code",
   "execution_count": 139,
   "metadata": {},
   "outputs": [
    {
     "data": {
      "text/html": [
       "<div>\n",
       "<style scoped>\n",
       "    .dataframe tbody tr th:only-of-type {\n",
       "        vertical-align: middle;\n",
       "    }\n",
       "\n",
       "    .dataframe tbody tr th {\n",
       "        vertical-align: top;\n",
       "    }\n",
       "\n",
       "    .dataframe thead th {\n",
       "        text-align: right;\n",
       "    }\n",
       "</style>\n",
       "<table border=\"1\" class=\"dataframe\">\n",
       "  <thead>\n",
       "    <tr style=\"text-align: right;\">\n",
       "      <th></th>\n",
       "      <th>year</th>\n",
       "      <th>farm</th>\n",
       "      <th>ownershg</th>\n",
       "      <th>value</th>\n",
       "      <th>rent</th>\n",
       "      <th>ftotinc</th>\n",
       "      <th>nfams</th>\n",
       "      <th>ncouples</th>\n",
       "      <th>nmothers</th>\n",
       "      <th>nfathers</th>\n",
       "      <th>...</th>\n",
       "      <th>sex</th>\n",
       "      <th>school</th>\n",
       "      <th>incwage</th>\n",
       "      <th>inctot</th>\n",
       "      <th>incfarm</th>\n",
       "      <th>incbus</th>\n",
       "      <th>incss</th>\n",
       "      <th>incwelfr</th>\n",
       "      <th>incother</th>\n",
       "      <th>poverty</th>\n",
       "    </tr>\n",
       "  </thead>\n",
       "  <tbody>\n",
       "    <tr>\n",
       "      <th>0</th>\n",
       "      <td>0.0</td>\n",
       "      <td>0.0</td>\n",
       "      <td>1.0</td>\n",
       "      <td>1.000000</td>\n",
       "      <td>0.412</td>\n",
       "      <td>0.023000</td>\n",
       "      <td>0.125</td>\n",
       "      <td>0.00</td>\n",
       "      <td>0.25</td>\n",
       "      <td>0.25</td>\n",
       "      <td>...</td>\n",
       "      <td>1.0</td>\n",
       "      <td>1.0</td>\n",
       "      <td>1.000</td>\n",
       "      <td>0.028781</td>\n",
       "      <td>1.000000</td>\n",
       "      <td>1.0000</td>\n",
       "      <td>1.0</td>\n",
       "      <td>1.0</td>\n",
       "      <td>1.0</td>\n",
       "      <td>0.231537</td>\n",
       "    </tr>\n",
       "    <tr>\n",
       "      <th>1</th>\n",
       "      <td>0.0</td>\n",
       "      <td>0.0</td>\n",
       "      <td>0.0</td>\n",
       "      <td>0.158292</td>\n",
       "      <td>0.000</td>\n",
       "      <td>0.038008</td>\n",
       "      <td>0.125</td>\n",
       "      <td>0.00</td>\n",
       "      <td>0.00</td>\n",
       "      <td>0.00</td>\n",
       "      <td>...</td>\n",
       "      <td>0.0</td>\n",
       "      <td>0.0</td>\n",
       "      <td>0.038</td>\n",
       "      <td>0.146673</td>\n",
       "      <td>0.000749</td>\n",
       "      <td>0.0099</td>\n",
       "      <td>0.0</td>\n",
       "      <td>0.0</td>\n",
       "      <td>0.0</td>\n",
       "      <td>1.000000</td>\n",
       "    </tr>\n",
       "    <tr>\n",
       "      <th>2</th>\n",
       "      <td>0.0</td>\n",
       "      <td>0.0</td>\n",
       "      <td>1.0</td>\n",
       "      <td>1.000000</td>\n",
       "      <td>0.675</td>\n",
       "      <td>0.000000</td>\n",
       "      <td>0.000</td>\n",
       "      <td>0.00</td>\n",
       "      <td>0.25</td>\n",
       "      <td>0.00</td>\n",
       "      <td>...</td>\n",
       "      <td>1.0</td>\n",
       "      <td>1.0</td>\n",
       "      <td>1.000</td>\n",
       "      <td>0.028781</td>\n",
       "      <td>1.000000</td>\n",
       "      <td>1.0000</td>\n",
       "      <td>1.0</td>\n",
       "      <td>1.0</td>\n",
       "      <td>1.0</td>\n",
       "      <td>0.001996</td>\n",
       "    </tr>\n",
       "    <tr>\n",
       "      <th>3</th>\n",
       "      <td>0.0</td>\n",
       "      <td>0.0</td>\n",
       "      <td>1.0</td>\n",
       "      <td>1.000000</td>\n",
       "      <td>0.725</td>\n",
       "      <td>0.023008</td>\n",
       "      <td>0.125</td>\n",
       "      <td>0.25</td>\n",
       "      <td>0.25</td>\n",
       "      <td>0.25</td>\n",
       "      <td>...</td>\n",
       "      <td>0.0</td>\n",
       "      <td>0.0</td>\n",
       "      <td>1.000</td>\n",
       "      <td>0.028781</td>\n",
       "      <td>1.000000</td>\n",
       "      <td>1.0000</td>\n",
       "      <td>1.0</td>\n",
       "      <td>1.0</td>\n",
       "      <td>1.0</td>\n",
       "      <td>0.309381</td>\n",
       "    </tr>\n",
       "    <tr>\n",
       "      <th>4</th>\n",
       "      <td>0.0</td>\n",
       "      <td>0.0</td>\n",
       "      <td>0.0</td>\n",
       "      <td>0.396985</td>\n",
       "      <td>0.000</td>\n",
       "      <td>0.104000</td>\n",
       "      <td>0.000</td>\n",
       "      <td>0.25</td>\n",
       "      <td>0.25</td>\n",
       "      <td>0.25</td>\n",
       "      <td>...</td>\n",
       "      <td>0.0</td>\n",
       "      <td>1.0</td>\n",
       "      <td>1.000</td>\n",
       "      <td>0.028781</td>\n",
       "      <td>1.000000</td>\n",
       "      <td>1.0000</td>\n",
       "      <td>1.0</td>\n",
       "      <td>1.0</td>\n",
       "      <td>1.0</td>\n",
       "      <td>1.000000</td>\n",
       "    </tr>\n",
       "  </tbody>\n",
       "</table>\n",
       "<p>5 rows × 36 columns</p>\n",
       "</div>"
      ],
      "text/plain": [
       "   year  farm  ownershg     value   rent   ftotinc  nfams  ncouples  nmothers  \\\n",
       "0   0.0   0.0       1.0  1.000000  0.412  0.023000  0.125      0.00      0.25   \n",
       "1   0.0   0.0       0.0  0.158292  0.000  0.038008  0.125      0.00      0.00   \n",
       "2   0.0   0.0       1.0  1.000000  0.675  0.000000  0.000      0.00      0.25   \n",
       "3   0.0   0.0       1.0  1.000000  0.725  0.023008  0.125      0.25      0.25   \n",
       "4   0.0   0.0       0.0  0.396985  0.000  0.104000  0.000      0.25      0.25   \n",
       "\n",
       "   nfathers  ...  sex  school  incwage    inctot   incfarm  incbus  incss  \\\n",
       "0      0.25  ...  1.0     1.0    1.000  0.028781  1.000000  1.0000    1.0   \n",
       "1      0.00  ...  0.0     0.0    0.038  0.146673  0.000749  0.0099    0.0   \n",
       "2      0.00  ...  1.0     1.0    1.000  0.028781  1.000000  1.0000    1.0   \n",
       "3      0.25  ...  0.0     0.0    1.000  0.028781  1.000000  1.0000    1.0   \n",
       "4      0.25  ...  0.0     1.0    1.000  0.028781  1.000000  1.0000    1.0   \n",
       "\n",
       "   incwelfr  incother   poverty  \n",
       "0       1.0       1.0  0.231537  \n",
       "1       0.0       0.0  1.000000  \n",
       "2       1.0       1.0  0.001996  \n",
       "3       1.0       1.0  0.309381  \n",
       "4       1.0       1.0  1.000000  \n",
       "\n",
       "[5 rows x 36 columns]"
      ]
     },
     "execution_count": 139,
     "metadata": {},
     "output_type": "execute_result"
    }
   ],
   "source": [
    "#DROPPING THE COLUMN\n",
    "df1_normalized=df1_normalized.drop(columns=['occscoresei'])\n",
    "df1_normalized.head()"
   ]
  },
  {
   "cell_type": "code",
   "execution_count": 140,
   "metadata": {},
   "outputs": [
    {
     "data": {
      "text/plain": [
       "Index(['year', 'farm', 'ownershg', 'value', 'rent', 'ftotinc', 'nfams',\n",
       "       'ncouples', 'nmothers', 'nfathers', 'momloc', 'stepmom', 'momrule',\n",
       "       'poploc', 'steppop', 'poprule', 'sploc', 'sprule', 'famsize', 'nchild',\n",
       "       'nchlt5', 'famunit', 'eldch', 'yngch', 'nsibs', 'age', 'sex', 'school',\n",
       "       'incwage', 'inctot', 'incfarm', 'incbus', 'incss', 'incwelfr',\n",
       "       'incother', 'poverty'],\n",
       "      dtype='object')"
      ]
     },
     "execution_count": 140,
     "metadata": {},
     "output_type": "execute_result"
    }
   ],
   "source": [
    "#AFTER DROPPING THE COLUMNNAMES\n",
    "df1_normalized.columns"
   ]
  },
  {
   "cell_type": "code",
   "execution_count": 141,
   "metadata": {},
   "outputs": [
    {
     "data": {
      "text/html": [
       "<div>\n",
       "<style scoped>\n",
       "    .dataframe tbody tr th:only-of-type {\n",
       "        vertical-align: middle;\n",
       "    }\n",
       "\n",
       "    .dataframe tbody tr th {\n",
       "        vertical-align: top;\n",
       "    }\n",
       "\n",
       "    .dataframe thead th {\n",
       "        text-align: right;\n",
       "    }\n",
       "</style>\n",
       "<table border=\"1\" class=\"dataframe\">\n",
       "  <thead>\n",
       "    <tr style=\"text-align: right;\">\n",
       "      <th></th>\n",
       "      <th>relateg</th>\n",
       "      <th>raceg</th>\n",
       "      <th>marst</th>\n",
       "      <th>chborn</th>\n",
       "      <th>bplg</th>\n",
       "      <th>educrec</th>\n",
       "      <th>schltype</th>\n",
       "      <th>empstatg</th>\n",
       "      <th>labforce</th>\n",
       "      <th>occ1950</th>\n",
       "      <th>ind1950</th>\n",
       "      <th>classwkg</th>\n",
       "      <th>wkswork2</th>\n",
       "      <th>hrswork2</th>\n",
       "      <th>yrlastwk</th>\n",
       "      <th>migrat5g</th>\n",
       "      <th>migplac5</th>\n",
       "      <th>vetstat</th>\n",
       "      <th>tranwork</th>\n",
       "      <th>workedyrc</th>\n",
       "    </tr>\n",
       "  </thead>\n",
       "  <tbody>\n",
       "    <tr>\n",
       "      <th>0</th>\n",
       "      <td>Child</td>\n",
       "      <td>White</td>\n",
       "      <td>Never_married_single</td>\n",
       "      <td>8</td>\n",
       "      <td>California</td>\n",
       "      <td>Grade_5-8</td>\n",
       "      <td>Public_school</td>\n",
       "      <td>Employed</td>\n",
       "      <td>Yes_in_labor_force</td>\n",
       "      <td>Bookkeepers</td>\n",
       "      <td>Construction</td>\n",
       "      <td>Self-employed</td>\n",
       "      <td>50-52_weeks</td>\n",
       "      <td>40_hours</td>\n",
       "      <td>Worked_3-5_yrs_ago</td>\n",
       "      <td>Same_house</td>\n",
       "      <td>California</td>\n",
       "      <td>Yes</td>\n",
       "      <td>Motorcycle</td>\n",
       "      <td>Yes</td>\n",
       "    </tr>\n",
       "    <tr>\n",
       "      <th>1</th>\n",
       "      <td>Head_Householder</td>\n",
       "      <td>White</td>\n",
       "      <td>Never_married_single</td>\n",
       "      <td>8</td>\n",
       "      <td>Michigan</td>\n",
       "      <td>4+_years_of_college</td>\n",
       "      <td>Not_enrolled</td>\n",
       "      <td>Employed</td>\n",
       "      <td>Yes_in_labor_force</td>\n",
       "      <td>Aeronautical-Engineers</td>\n",
       "      <td>Aircraft_and_parts</td>\n",
       "      <td>Works_for_wages_salary</td>\n",
       "      <td>50-52_weeks</td>\n",
       "      <td>40_hours</td>\n",
       "      <td>Worked_3-5_yrs_ago</td>\n",
       "      <td>Moved_place_not_reported</td>\n",
       "      <td>Michigan</td>\n",
       "      <td>No_Service</td>\n",
       "      <td>Auto_truck_or_van</td>\n",
       "      <td>Yes</td>\n",
       "    </tr>\n",
       "    <tr>\n",
       "      <th>2</th>\n",
       "      <td>Child</td>\n",
       "      <td>Black_Negro</td>\n",
       "      <td>Never_married_single</td>\n",
       "      <td>8</td>\n",
       "      <td>California</td>\n",
       "      <td>Grade_1-4</td>\n",
       "      <td>Public_school</td>\n",
       "      <td>Employed</td>\n",
       "      <td>Yes_in_labor_force</td>\n",
       "      <td>Bookkeepers</td>\n",
       "      <td>Construction</td>\n",
       "      <td>Self-employed</td>\n",
       "      <td>50-52_weeks</td>\n",
       "      <td>40_hours</td>\n",
       "      <td>Worked_3-5_yrs_ago</td>\n",
       "      <td>Moved_place_not_reported</td>\n",
       "      <td>California</td>\n",
       "      <td>Yes</td>\n",
       "      <td>Motorcycle</td>\n",
       "      <td>Yes</td>\n",
       "    </tr>\n",
       "  </tbody>\n",
       "</table>\n",
       "</div>"
      ],
      "text/plain": [
       "            relateg        raceg                 marst chborn        bplg  \\\n",
       "0             Child        White  Never_married_single      8  California   \n",
       "1  Head_Householder        White  Never_married_single      8    Michigan   \n",
       "2             Child  Black_Negro  Never_married_single      8  California   \n",
       "\n",
       "               educrec       schltype  empstatg            labforce  \\\n",
       "0            Grade_5-8  Public_school  Employed  Yes_in_labor_force   \n",
       "1  4+_years_of_college   Not_enrolled  Employed  Yes_in_labor_force   \n",
       "2            Grade_1-4  Public_school  Employed  Yes_in_labor_force   \n",
       "\n",
       "                  occ1950             ind1950                classwkg  \\\n",
       "0             Bookkeepers        Construction           Self-employed   \n",
       "1  Aeronautical-Engineers  Aircraft_and_parts  Works_for_wages_salary   \n",
       "2             Bookkeepers        Construction           Self-employed   \n",
       "\n",
       "      wkswork2  hrswork2            yrlastwk                  migrat5g  \\\n",
       "0  50-52_weeks  40_hours  Worked_3-5_yrs_ago                Same_house   \n",
       "1  50-52_weeks  40_hours  Worked_3-5_yrs_ago  Moved_place_not_reported   \n",
       "2  50-52_weeks  40_hours  Worked_3-5_yrs_ago  Moved_place_not_reported   \n",
       "\n",
       "     migplac5     vetstat           tranwork workedyrc  \n",
       "0  California         Yes         Motorcycle       Yes  \n",
       "1    Michigan  No_Service  Auto_truck_or_van       Yes  \n",
       "2  California         Yes         Motorcycle       Yes  "
      ]
     },
     "execution_count": 141,
     "metadata": {},
     "output_type": "execute_result"
    }
   ],
   "source": [
    "# limit to categorical data using df.select_dtypes()\n",
    "# Taking all the object datatypes as categorical columns without giving names\n",
    "X = df1.select_dtypes(include=[object])\n",
    "X.head(3)"
   ]
  },
  {
   "cell_type": "code",
   "execution_count": 142,
   "metadata": {},
   "outputs": [
    {
     "data": {
      "text/plain": [
       "(8844, 20)"
      ]
     },
     "execution_count": 142,
     "metadata": {},
     "output_type": "execute_result"
    }
   ],
   "source": [
    "# check original shape of categorical columns\n",
    "X.shape"
   ]
  },
  {
   "cell_type": "code",
   "execution_count": 143,
   "metadata": {},
   "outputs": [
    {
     "data": {
      "text/plain": [
       "Index(['relateg', 'raceg', 'marst', 'chborn', 'bplg', 'educrec', 'schltype',\n",
       "       'empstatg', 'labforce', 'occ1950', 'ind1950', 'classwkg', 'wkswork2',\n",
       "       'hrswork2', 'yrlastwk', 'migrat5g', 'migplac5', 'vetstat', 'tranwork',\n",
       "       'workedyrc'],\n",
       "      dtype='object')"
      ]
     },
     "execution_count": 143,
     "metadata": {},
     "output_type": "execute_result"
    }
   ],
   "source": [
    "# view the categorical columns using df.columns\n",
    "X.columns"
   ]
  },
  {
   "cell_type": "code",
   "execution_count": 144,
   "metadata": {},
   "outputs": [],
   "source": [
    "# import preprocessing from sklearn\n",
    "from sklearn import preprocessing"
   ]
  },
  {
   "cell_type": "code",
   "execution_count": 145,
   "metadata": {},
   "outputs": [
    {
     "data": {
      "text/html": [
       "<div>\n",
       "<style scoped>\n",
       "    .dataframe tbody tr th:only-of-type {\n",
       "        vertical-align: middle;\n",
       "    }\n",
       "\n",
       "    .dataframe tbody tr th {\n",
       "        vertical-align: top;\n",
       "    }\n",
       "\n",
       "    .dataframe thead th {\n",
       "        text-align: right;\n",
       "    }\n",
       "</style>\n",
       "<table border=\"1\" class=\"dataframe\">\n",
       "  <thead>\n",
       "    <tr style=\"text-align: right;\">\n",
       "      <th></th>\n",
       "      <th>relateg</th>\n",
       "      <th>raceg</th>\n",
       "      <th>marst</th>\n",
       "      <th>chborn</th>\n",
       "      <th>bplg</th>\n",
       "      <th>educrec</th>\n",
       "      <th>schltype</th>\n",
       "      <th>empstatg</th>\n",
       "      <th>labforce</th>\n",
       "      <th>occ1950</th>\n",
       "      <th>ind1950</th>\n",
       "      <th>classwkg</th>\n",
       "      <th>wkswork2</th>\n",
       "      <th>hrswork2</th>\n",
       "      <th>yrlastwk</th>\n",
       "      <th>migrat5g</th>\n",
       "      <th>migplac5</th>\n",
       "      <th>vetstat</th>\n",
       "      <th>tranwork</th>\n",
       "      <th>workedyrc</th>\n",
       "    </tr>\n",
       "  </thead>\n",
       "  <tbody>\n",
       "    <tr>\n",
       "      <th>0</th>\n",
       "      <td>0</td>\n",
       "      <td>6</td>\n",
       "      <td>3</td>\n",
       "      <td>10</td>\n",
       "      <td>14</td>\n",
       "      <td>6</td>\n",
       "      <td>2</td>\n",
       "      <td>0</td>\n",
       "      <td>1</td>\n",
       "      <td>23</td>\n",
       "      <td>18</td>\n",
       "      <td>0</td>\n",
       "      <td>5</td>\n",
       "      <td>4</td>\n",
       "      <td>2</td>\n",
       "      <td>2</td>\n",
       "      <td>5</td>\n",
       "      <td>1</td>\n",
       "      <td>3</td>\n",
       "      <td>1</td>\n",
       "    </tr>\n",
       "    <tr>\n",
       "      <th>1</th>\n",
       "      <td>3</td>\n",
       "      <td>6</td>\n",
       "      <td>3</td>\n",
       "      <td>10</td>\n",
       "      <td>64</td>\n",
       "      <td>1</td>\n",
       "      <td>0</td>\n",
       "      <td>0</td>\n",
       "      <td>1</td>\n",
       "      <td>2</td>\n",
       "      <td>5</td>\n",
       "      <td>1</td>\n",
       "      <td>5</td>\n",
       "      <td>4</td>\n",
       "      <td>2</td>\n",
       "      <td>1</td>\n",
       "      <td>22</td>\n",
       "      <td>0</td>\n",
       "      <td>0</td>\n",
       "      <td>1</td>\n",
       "    </tr>\n",
       "    <tr>\n",
       "      <th>2</th>\n",
       "      <td>0</td>\n",
       "      <td>1</td>\n",
       "      <td>3</td>\n",
       "      <td>10</td>\n",
       "      <td>14</td>\n",
       "      <td>2</td>\n",
       "      <td>2</td>\n",
       "      <td>0</td>\n",
       "      <td>1</td>\n",
       "      <td>23</td>\n",
       "      <td>18</td>\n",
       "      <td>0</td>\n",
       "      <td>5</td>\n",
       "      <td>4</td>\n",
       "      <td>2</td>\n",
       "      <td>1</td>\n",
       "      <td>5</td>\n",
       "      <td>1</td>\n",
       "      <td>3</td>\n",
       "      <td>1</td>\n",
       "    </tr>\n",
       "    <tr>\n",
       "      <th>3</th>\n",
       "      <td>0</td>\n",
       "      <td>6</td>\n",
       "      <td>3</td>\n",
       "      <td>10</td>\n",
       "      <td>14</td>\n",
       "      <td>7</td>\n",
       "      <td>2</td>\n",
       "      <td>0</td>\n",
       "      <td>1</td>\n",
       "      <td>23</td>\n",
       "      <td>18</td>\n",
       "      <td>0</td>\n",
       "      <td>5</td>\n",
       "      <td>4</td>\n",
       "      <td>2</td>\n",
       "      <td>0</td>\n",
       "      <td>5</td>\n",
       "      <td>1</td>\n",
       "      <td>3</td>\n",
       "      <td>1</td>\n",
       "    </tr>\n",
       "    <tr>\n",
       "      <th>4</th>\n",
       "      <td>0</td>\n",
       "      <td>6</td>\n",
       "      <td>3</td>\n",
       "      <td>10</td>\n",
       "      <td>14</td>\n",
       "      <td>2</td>\n",
       "      <td>2</td>\n",
       "      <td>0</td>\n",
       "      <td>1</td>\n",
       "      <td>23</td>\n",
       "      <td>18</td>\n",
       "      <td>0</td>\n",
       "      <td>5</td>\n",
       "      <td>4</td>\n",
       "      <td>2</td>\n",
       "      <td>2</td>\n",
       "      <td>5</td>\n",
       "      <td>1</td>\n",
       "      <td>3</td>\n",
       "      <td>1</td>\n",
       "    </tr>\n",
       "  </tbody>\n",
       "</table>\n",
       "</div>"
      ],
      "text/plain": [
       "   relateg  raceg  marst  chborn  bplg  educrec  schltype  empstatg  labforce  \\\n",
       "0        0      6      3      10    14        6         2         0         1   \n",
       "1        3      6      3      10    64        1         0         0         1   \n",
       "2        0      1      3      10    14        2         2         0         1   \n",
       "3        0      6      3      10    14        7         2         0         1   \n",
       "4        0      6      3      10    14        2         2         0         1   \n",
       "\n",
       "   occ1950  ind1950  classwkg  wkswork2  hrswork2  yrlastwk  migrat5g  \\\n",
       "0       23       18         0         5         4         2         2   \n",
       "1        2        5         1         5         4         2         1   \n",
       "2       23       18         0         5         4         2         1   \n",
       "3       23       18         0         5         4         2         0   \n",
       "4       23       18         0         5         4         2         2   \n",
       "\n",
       "   migplac5  vetstat  tranwork  workedyrc  \n",
       "0         5        1         3          1  \n",
       "1        22        0         0          1  \n",
       "2         5        1         3          1  \n",
       "3         5        1         3          1  \n",
       "4         5        1         3          1  "
      ]
     },
     "execution_count": 145,
     "metadata": {},
     "output_type": "execute_result"
    }
   ],
   "source": [
    "#create a LabelEncoder object and fit it to each feature in X\n",
    "# encode labels with value between 0 and n_classes-1.\n",
    "le = preprocessing.LabelEncoder()\n",
    "# used df.apply() to apply le.fit_transform to all columns\n",
    "X_2 = X.apply(le.fit_transform)\n",
    "X_2.head()"
   ]
  },
  {
   "cell_type": "code",
   "execution_count": 146,
   "metadata": {},
   "outputs": [
    {
     "data": {
      "text/plain": [
       "(8844, 20)"
      ]
     },
     "execution_count": 146,
     "metadata": {},
     "output_type": "execute_result"
    }
   ],
   "source": [
    "#checking the categorical columns\n",
    "X_2.shape"
   ]
  },
  {
   "cell_type": "code",
   "execution_count": 147,
   "metadata": {},
   "outputs": [
    {
     "name": "stdout",
     "output_type": "stream",
     "text": [
      "<class 'pandas.core.frame.DataFrame'>\n",
      "RangeIndex: 8844 entries, 0 to 8843\n",
      "Data columns (total 20 columns):\n",
      "relateg      8844 non-null int32\n",
      "raceg        8844 non-null int32\n",
      "marst        8844 non-null int32\n",
      "chborn       8844 non-null int32\n",
      "bplg         8844 non-null int32\n",
      "educrec      8844 non-null int32\n",
      "schltype     8844 non-null int32\n",
      "empstatg     8844 non-null int32\n",
      "labforce     8844 non-null int32\n",
      "occ1950      8844 non-null int32\n",
      "ind1950      8844 non-null int32\n",
      "classwkg     8844 non-null int32\n",
      "wkswork2     8844 non-null int32\n",
      "hrswork2     8844 non-null int32\n",
      "yrlastwk     8844 non-null int32\n",
      "migrat5g     8844 non-null int32\n",
      "migplac5     8844 non-null int32\n",
      "vetstat      8844 non-null int32\n",
      "tranwork     8844 non-null int32\n",
      "workedyrc    8844 non-null int32\n",
      "dtypes: int32(20)\n",
      "memory usage: 691.0 KB\n"
     ]
    }
   ],
   "source": [
    "#successfully conveted the objects into integers\n",
    "X_2.info()"
   ]
  },
  {
   "cell_type": "markdown",
   "metadata": {},
   "source": [
    "# onehotencoding"
   ]
  },
  {
   "cell_type": "code",
   "execution_count": 148,
   "metadata": {},
   "outputs": [
    {
     "name": "stderr",
     "output_type": "stream",
     "text": [
      "C:\\Users\\Abhishek Baranwal\\Anaconda3\\lib\\site-packages\\sklearn\\preprocessing\\_encoders.py:371: FutureWarning: The handling of integer data will change in version 0.22. Currently, the categories are determined based on the range [0, max(values)], while in the future they will be determined based on the unique values.\n",
      "If you want the future behaviour and silence this warning, you can specify \"categories='auto'\".\n",
      "In case you used a LabelEncoder before this OneHotEncoder to convert the categories to integers, then you can now use the OneHotEncoder directly.\n",
      "  warnings.warn(msg, FutureWarning)\n"
     ]
    },
    {
     "data": {
      "text/plain": [
       "(8844, 573)"
      ]
     },
     "execution_count": 148,
     "metadata": {},
     "output_type": "execute_result"
    }
   ],
   "source": [
    "# create a OneHotEncoder object, and fit it to all of X\n",
    "\n",
    "# 1. INSTANTIATE\n",
    "enc = preprocessing.OneHotEncoder()\n",
    "\n",
    "# 2. FIT\n",
    "enc.fit(X_2)\n",
    "\n",
    "# 3. Transform\n",
    "onehotlabels = enc.transform(X_2).toarray()\n",
    "onehotlabels.shape\n",
    "\n",
    "# as you can see, you've the same number of rows 595\n",
    "# but now you've so many more columns due to how we changed all the categorical data into numerical data"
   ]
  },
  {
   "cell_type": "code",
   "execution_count": 149,
   "metadata": {},
   "outputs": [],
   "source": [
    "# converting into dataframe\n",
    "data = pd.DataFrame(onehotlabels)"
   ]
  },
  {
   "cell_type": "code",
   "execution_count": 150,
   "metadata": {},
   "outputs": [],
   "source": [
    "#combining all the normalized data and the onehotcoding data \n",
    "data[['year', 'farm', 'ownershg', 'value', 'rent', 'ftotinc', 'nfams',\n",
    "       'ncouples', 'nmothers', 'nfathers', 'momloc', 'stepmom', 'momrule',\n",
    "       'poploc', 'steppop', 'poprule', 'sploc', 'sprule', 'famsize', 'nchild',\n",
    "       'nchlt5', 'famunit', 'eldch', 'yngch', 'nsibs', 'age', 'sex', 'school',\n",
    "       'incwage', 'inctot', 'incfarm', 'incbus', 'incss', 'incwelfr',\n",
    "       'incother', 'poverty']]=df1_normalized"
   ]
  },
  {
   "cell_type": "markdown",
   "metadata": {},
   "source": [
    "# DIFFERENT CLASSIFICATION METHODS"
   ]
  },
  {
   "cell_type": "code",
   "execution_count": 151,
   "metadata": {},
   "outputs": [],
   "source": [
    "# DIVIDING THE DATA INTO INPUT AND OUTPUT\n",
    "X = data  # INPUT VARAIABLES\n",
    "y = df['movedin'] #TARGET VARIAABLES"
   ]
  },
  {
   "cell_type": "code",
   "execution_count": 152,
   "metadata": {},
   "outputs": [],
   "source": [
    "#CONVERTING THE DATA INTO TEST AND TRAIN\n",
    "from sklearn.model_selection import train_test_split \n",
    "X_train, X_test, y_train, y_test = train_test_split(X, y, test_size=0.2, \n",
    "                                                    random_state=1)"
   ]
  },
  {
   "cell_type": "markdown",
   "metadata": {},
   "source": [
    "# LogisticRegression"
   ]
  },
  {
   "cell_type": "code",
   "execution_count": 153,
   "metadata": {},
   "outputs": [],
   "source": [
    "from sklearn.linear_model import LogisticRegression \n",
    "from sklearn.metrics import accuracy_score \n",
    "model = LogisticRegression()"
   ]
  },
  {
   "cell_type": "code",
   "execution_count": 154,
   "metadata": {},
   "outputs": [
    {
     "name": "stderr",
     "output_type": "stream",
     "text": [
      "C:\\Users\\Abhishek Baranwal\\Anaconda3\\lib\\site-packages\\sklearn\\linear_model\\logistic.py:433: FutureWarning: Default solver will be changed to 'lbfgs' in 0.22. Specify a solver to silence this warning.\n",
      "  FutureWarning)\n",
      "C:\\Users\\Abhishek Baranwal\\Anaconda3\\lib\\site-packages\\sklearn\\linear_model\\logistic.py:460: FutureWarning: Default multi_class will be changed to 'auto' in 0.22. Specify the multi_class option to silence this warning.\n",
      "  \"this warning.\", FutureWarning)\n"
     ]
    },
    {
     "data": {
      "text/plain": [
       "LogisticRegression(C=1.0, class_weight=None, dual=False, fit_intercept=True,\n",
       "          intercept_scaling=1, max_iter=100, multi_class='warn',\n",
       "          n_jobs=None, penalty='l2', random_state=None, solver='warn',\n",
       "          tol=0.0001, verbose=0, warm_start=False)"
      ]
     },
     "execution_count": 154,
     "metadata": {},
     "output_type": "execute_result"
    }
   ],
   "source": [
    "model.fit(X_train, y_train)"
   ]
  },
  {
   "cell_type": "code",
   "execution_count": 155,
   "metadata": {},
   "outputs": [],
   "source": [
    "y_pred = model.predict(X_test)"
   ]
  },
  {
   "cell_type": "code",
   "execution_count": 156,
   "metadata": {},
   "outputs": [
    {
     "name": "stdout",
     "output_type": "stream",
     "text": [
      "82.58903335217637\n"
     ]
    }
   ],
   "source": [
    "accuracy=accuracy_score(y_test,y_pred)\n",
    "print(accuracy*100)"
   ]
  },
  {
   "cell_type": "markdown",
   "metadata": {},
   "source": [
    "# THE ACCURACY OF THE DATA BY USING LOGISTIC REGRESSION IS 82.5%"
   ]
  },
  {
   "cell_type": "code",
   "execution_count": 157,
   "metadata": {},
   "outputs": [
    {
     "data": {
      "text/plain": [
       "array([[1179,    0,    0,    0,    0,    0,    0],\n",
       "       [   0,   61,   58,    6,    3,    1,    0],\n",
       "       [   0,   51,   99,   19,   11,    4,    1],\n",
       "       [   0,    1,    4,   36,   31,    5,    1],\n",
       "       [   0,    3,    7,   30,   62,    8,    4],\n",
       "       [   0,    0,    0,    5,   23,    6,   14],\n",
       "       [   0,    0,    0,    2,   12,    4,   18]], dtype=int64)"
      ]
     },
     "execution_count": 157,
     "metadata": {},
     "output_type": "execute_result"
    }
   ],
   "source": [
    "from sklearn.metrics import confusion_matrix\n",
    "cnf_matrix = confusion_matrix(y_test, y_pred)\n",
    "cnf_matrix"
   ]
  },
  {
   "cell_type": "markdown",
   "metadata": {},
   "source": [
    "# RANDOM FOREST"
   ]
  },
  {
   "cell_type": "code",
   "execution_count": 158,
   "metadata": {},
   "outputs": [],
   "source": [
    "from sklearn.model_selection import train_test_split\n",
    "X_train, X_test, y_train, y_test = train_test_split(X, y, test_size=0.2, random_state=1)"
   ]
  },
  {
   "cell_type": "code",
   "execution_count": 159,
   "metadata": {},
   "outputs": [
    {
     "data": {
      "text/plain": [
       "RandomForestClassifier(bootstrap=True, class_weight=None, criterion='gini',\n",
       "            max_depth=None, max_features='auto', max_leaf_nodes=None,\n",
       "            min_impurity_decrease=0.0, min_impurity_split=None,\n",
       "            min_samples_leaf=1, min_samples_split=2,\n",
       "            min_weight_fraction_leaf=0.0, n_estimators=100, n_jobs=None,\n",
       "            oob_score=False, random_state=None, verbose=0,\n",
       "            warm_start=False)"
      ]
     },
     "execution_count": 159,
     "metadata": {},
     "output_type": "execute_result"
    }
   ],
   "source": [
    "#from sklearn.linear_model import LogisticRegression \n",
    "from sklearn.ensemble import RandomForestClassifier\n",
    "from sklearn.metrics import accuracy_score \n",
    "\n",
    "#model = LogisticRegression()\n",
    "model = RandomForestClassifier(n_estimators=100)\n",
    "\n",
    "model.fit(X, y)"
   ]
  },
  {
   "cell_type": "code",
   "execution_count": 160,
   "metadata": {},
   "outputs": [],
   "source": [
    "y_pred = model.predict(X_test)"
   ]
  },
  {
   "cell_type": "code",
   "execution_count": 161,
   "metadata": {},
   "outputs": [],
   "source": [
    "#predicted_classes = model.predict(X)"
   ]
  },
  {
   "cell_type": "code",
   "execution_count": 162,
   "metadata": {},
   "outputs": [
    {
     "name": "stdout",
     "output_type": "stream",
     "text": [
      "1.0\n"
     ]
    }
   ],
   "source": [
    "accuracy = accuracy_score(y_test,y_pred)\n",
    "print(accuracy)"
   ]
  },
  {
   "cell_type": "markdown",
   "metadata": {},
   "source": [
    "# THE ACCURACY OF THE DATA BY USING RANDOM TREE IS 100%"
   ]
  },
  {
   "cell_type": "code",
   "execution_count": null,
   "metadata": {},
   "outputs": [],
   "source": []
  }
 ],
 "metadata": {
  "kernelspec": {
   "display_name": "Python 3",
   "language": "python",
   "name": "python3"
  },
  "language_info": {
   "codemirror_mode": {
    "name": "ipython",
    "version": 3
   },
   "file_extension": ".py",
   "mimetype": "text/x-python",
   "name": "python",
   "nbconvert_exporter": "python",
   "pygments_lexer": "ipython3",
   "version": "3.7.3"
  }
 },
 "nbformat": 4,
 "nbformat_minor": 2
}
